{
  "nbformat": 4,
  "nbformat_minor": 0,
  "metadata": {
    "colab": {
      "provenance": []
    },
    "kernelspec": {
      "name": "python3",
      "display_name": "Python 3"
    },
    "language_info": {
      "name": "python"
    }
  },
  "cells": [
    {
      "cell_type": "code",
      "execution_count": 146,
      "metadata": {
        "id": "JkRy8IUF6782"
      },
      "outputs": [],
      "source": [
        "#pip install pyspark"
      ]
    },
    {
      "cell_type": "code",
      "source": [
        "from pyspark.sql import SparkSession\n",
        "\n",
        "spark = SparkSession.builder.appName('WorldBankAnalysis').getOrCreate()"
      ],
      "metadata": {
        "id": "55dvqJs0mTCY"
      },
      "execution_count": 147,
      "outputs": []
    },
    {
      "cell_type": "code",
      "source": [
        "df = spark.read.csv('/content/drive/MyDrive/WB_Data/IBRD_Statement_Of_Loans_-_Historical_Data_20240320.csv', header=True, inferSchema=True,dateFormat=\"MM/dd/yyyy hh:mm:ss a\")"
      ],
      "metadata": {
        "id": "MHTRNKyCnkfd"
      },
      "execution_count": 148,
      "outputs": []
    },
    {
      "cell_type": "code",
      "source": [
        "df.show()"
      ],
      "metadata": {
        "colab": {
          "base_uri": "https://localhost:8080/"
        },
        "id": "f1FtIo9bn_L9",
        "outputId": "a33d1d3b-2314-4461-9d82-0da30bcbde36"
      },
      "execution_count": 149,
      "outputs": [
        {
          "output_type": "stream",
          "name": "stdout",
          "text": [
            "+--------------------+-----------+--------------------+------------+-----------+--------------------+----------------------+---------+---------+---------------+-------------+----------------------+----------+--------------------+-------------------------+----------------+------------------+----------------+--------------+-----------+-------------------+---------------------+--------------+----------------+-------------+----------+--------------------+-------------------+----------------------+-------------------+----------------------------+-------------------------+----------------------+\n",
            "|       End of Period|Loan Number|              Region|Country Code|    Country|            Borrower|Guarantor Country Code|Guarantor|Loan Type|    Loan Status|Interest Rate|Currency of Commitment|Project ID|       Project Name |Original Principal Amount|Cancelled Amount|Undisbursed Amount|Disbursed Amount|Repaid to IBRD|Due to IBRD|Exchange Adjustment|Borrower's Obligation|Sold 3rd Party|Repaid 3rd Party|Due 3rd Party|Loans Held|First Repayment Date|Last Repayment Date|Agreement Signing Date|Board Approval Date|Effective Date (Most Recent)|Closed Date (Most Recent)|Last Disbursement Date|\n",
            "+--------------------+-----------+--------------------+------------+-----------+--------------------+----------------------+---------+---------+---------------+-------------+----------------------+----------+--------------------+-------------------------+----------------+------------------+----------------+--------------+-----------+-------------------+---------------------+--------------+----------------+-------------+----------+--------------------+-------------------+----------------------+-------------------+----------------------------+-------------------------+----------------------+\n",
            "|05/31/2022 12:00:...|  IBRD00010|EUROPE AND CENTRA...|          FR|     France|     CREDIT NATIONAL|                    FR|   France|      NPL|   Fully Repaid|         4.25|                  NULL|   P037383|      RECONSTRUCTION|                250000000|             0.0|               0.0|           2.5E8|       38000.0|        0.0|                0.0|                    0|     249962000|       249962000|            0|         0|11/01/1952 12:00:...|         1977-05-01|            1947-05-09|         1947-05-09|                  1947-06-09|               1947-12-31|                  NULL|\n",
            "|05/31/2022 12:00:...|  IBRD00020|EUROPE AND CENTRA...|          NL|Netherlands|                NULL|                  NULL|     NULL|      NPL|   Fully Repaid|         4.25|                  NULL|   P037452|      RECONSTRUCTION|             191044211.75|             0.0|               0.0|  1.9104421175E8|1.0337221175E8|        0.0|                0.0|                    0|      87672000|        87672000|            0|         0|04/01/1952 12:00:...|         1972-10-01|            1947-08-07|         1947-08-07|                  1947-09-11|               1948-03-31|                  NULL|\n",
            "|05/31/2022 12:00:...|  IBRD00021|EUROPE AND CENTRA...|          NL|Netherlands|                NULL|                  NULL|     NULL|      NPL|   Fully Repaid|         4.25|                  NULL|   P037452|      RECONSTRUCTION|               3955788.25|             0.0|               0.0|      3955788.25|           0.0|        0.0|                0.0|                    0|    3955788.25|      3955788.25|            0|         0|04/01/1953 12:00:...|         1954-04-01|            1948-05-25|         1947-08-07|                  1948-06-01|               1948-06-30|                  NULL|\n",
            "|05/31/2022 12:00:...|  IBRD00030|EUROPE AND CENTRA...|          DK|    Denmark|                NULL|                  NULL|     NULL|      NPL|   Fully Repaid|         4.25|                  NULL|   P037362|      RECONSTRUCTION|                 40000000|             0.0|               0.0|           4.0E7|      1.7771E7|        0.0|                0.0|                    0|      22229000|        22229000|            0|         0|02/01/1953 12:00:...|         1972-08-01|            1947-08-22|         1947-08-22|                  1947-10-17|               1949-03-31|                  NULL|\n",
            "|05/31/2022 12:00:...|  IBRD00040|EUROPE AND CENTRA...|          LU| Luxembourg|                NULL|                  NULL|     NULL|      NPL|   Fully Repaid|         4.25|                  NULL|   P037451|      RECONSTRUCTION|                 12000000|             0.0|               0.0|   1.176198302E7|    1619983.02|        0.0|               0.01|                 0.01|      10142000|        10142000|            0|         0|07/15/1949 12:00:...|         1972-07-15|            1947-08-28|         1947-08-28|                  1947-10-24|               1949-03-31|                  NULL|\n",
            "|05/31/2022 12:00:...|  IBRD00050|LATIN AMERICA AND...|          CL|      Chile| Ministry of Finance|                    CL|    Chile|      NPL|   Fully Repaid|          4.5|                  NULL|   P006578|               POWER|                 13500000|             0.0|               0.0|          1.35E7|      1.2167E7|        0.0|                0.0|                    0|       1333000|         1333000|            0|         0|07/01/1953 12:00:...|         1968-07-01|            1948-03-25|         1948-03-25|                  1949-04-07|               1954-12-31|                  NULL|\n",
            "|05/31/2022 12:00:...|  IBRD00060|LATIN AMERICA AND...|          CL|      Chile| Ministry of Finance|                    CL|    Chile|      NPL|   Fully Repaid|         3.75|                  NULL|   P006577|FOMENTO AGRIC CREDIT|                  2500000|             0.0|               0.0|       2500000.0|      755000.0|        0.0|                0.0|                    0|       1745000|         1745000|            0|         0|07/01/1950 12:00:...|         1955-01-01|            1948-03-25|         1948-03-25|                  1949-04-07|               1950-01-01|                  NULL|\n",
            "|05/31/2022 12:00:...|  IBRD00070|EUROPE AND CENTRA...|          NL|Netherlands|                NULL|                  NULL|     NULL|      NPL|   Fully Repaid|       3.5625|                  NULL|   P037453|          SHIPPING I|                  2000000|             0.0|               0.0|       2000000.0|           0.0|        0.0|                0.0|                    0|       2000000|         2000000|            0|         0|01/15/1949 12:00:...|         1958-07-15|            1948-07-15|         1948-05-21|                  1948-08-03|               1948-08-03|                  NULL|\n",
            "|05/31/2022 12:00:...|  IBRD00071|EUROPE AND CENTRA...|          NL|Netherlands|                NULL|                  NULL|     NULL|      NPL|   Fully Repaid|       3.5625|                  NULL|   P037453|          SHIPPING I|                  2000000|             0.0|               0.0|       2000000.0|           0.0|        0.0|                0.0|                    0|       2000000|         2000000|            0|         0|01/15/1949 12:00:...|         1958-07-15|            1948-07-15|         1948-05-21|                  1948-08-03|               1948-08-03|                  NULL|\n",
            "|05/31/2022 12:00:...|  IBRD00080|EUROPE AND CENTRA...|          NL|Netherlands|                NULL|                  NULL|     NULL|      NPL|   Fully Repaid|       3.5625|                  NULL|   P037454|         SHIPPING II|                  2000000|             0.0|               0.0|       2000000.0|           0.0|        0.0|                0.0|                    0|       2000000|         2000000|            0|         0|01/15/1949 12:00:...|         1958-07-15|            1948-07-15|         1948-05-21|                  1948-08-03|               1948-08-03|                  NULL|\n",
            "|05/31/2022 12:00:...|  IBRD00090|EUROPE AND CENTRA...|          NL|Netherlands|                NULL|                  NULL|     NULL|      NPL|   Fully Repaid|       3.5625|                  NULL|   P037455|        SHIPPING III|                  2000000|             0.0|               0.0|       2000000.0|           0.0|        0.0|                0.0|                    0|       2000000|         2000000|            0|         0|01/15/1949 12:00:...|         1958-07-15|            1948-07-15|         1948-05-21|                  1948-08-03|               1948-08-03|                  NULL|\n",
            "|05/31/2022 12:00:...|  IBRD00100|EUROPE AND CENTRA...|          NL|Netherlands|                NULL|                  NULL|     NULL|      NPL|   Fully Repaid|       3.5625|                  NULL|   P037456|         SHIPPING IV|                  2000000|             0.0|               0.0|       2000000.0|           0.0|        0.0|                0.0|                    0|       2000000|         2000000|            0|         0|01/15/1949 12:00:...|         1958-07-15|            1948-07-15|         1948-05-21|                  1948-08-03|               1948-08-03|                  NULL|\n",
            "|05/31/2022 12:00:...|  IBRD00101|EUROPE AND CENTRA...|          NL|Netherlands|                NULL|                  NULL|     NULL|      NPL|   Fully Repaid|       3.5625|                  NULL|   P037456|         SHIPPING IV|                  2000000|             0.0|               0.0|       2000000.0|           0.0|        0.0|                0.0|                    0|       2000000|         2000000|            0|         0|01/15/1949 12:00:...|         1958-07-15|            1948-07-15|         1948-05-21|                  1948-08-03|               1948-08-03|                  NULL|\n",
            "|05/31/2022 12:00:...|  IBRD00111|LATIN AMERICA AND...|          BR|     Brazil|Ministério da Faz...|                    BR|   Brazil|      NPL|   Fully Repaid|          4.5|                  NULL|   P006214| POWER AND TELEPHONE|                 75000000|             0.0|               0.0|           7.5E7| 7.097158897E7|        0.0|                0.0|                    0|    4028411.03|      4028411.03|            0|         0|07/01/1953 12:00:...|         1974-01-01|            1949-01-27|         1949-01-27|                  1949-05-09|               1953-12-31|                  NULL|\n",
            "|05/31/2022 12:00:...|  IBRD00112|LATIN AMERICA AND...|          BR|     Brazil|Ministério da Faz...|                    BR|   Brazil|      NPL|   Fully Repaid|         4.25|                  NULL|   P006214| POWER AND TELEPHONE|                 15000000|             0.0|               0.0|           1.5E7|         1.5E7|        0.0|                0.0|                    0|             0|               0|            0|         0|07/01/1955 12:00:...|         1976-01-01|            1951-01-18|         1951-01-16|                  1951-04-10|               1954-12-31|                  NULL|\n",
            "|05/31/2022 12:00:...|  IBRD00120|LATIN AMERICA AND...|          MX|     Mexico|Secretaria de Hac...|                    MX|   Mexico|      NPL|   Fully Repaid|          4.5|                  NULL|   P007497|             POWER I|                 24100000|             0.0|               0.0|          2.41E7|     2.01317E7|        0.0|                0.0|                    0|       3968300|         3968300|            0|         0|02/01/1953 12:00:...|         1973-08-01|            1949-01-06|         1949-01-06|                  1949-03-15|               1956-03-31|                  NULL|\n",
            "|05/31/2022 12:00:...|  IBRD00130|LATIN AMERICA AND...|          MX|     Mexico|Secretaria de Hac...|                    MX|   Mexico|      NPL|Fully Cancelled|          4.5|                  NULL|   P007498|            POWER II|                 10000000|             0.0|               0.0|             0.0|           0.0|        0.0|                0.0|                    0|             0|               0|            0|         0|01/01/1951 12:00:...|         1951-01-01|            1949-01-06|         1949-01-06|                  1949-03-15|               1950-07-01|                  NULL|\n",
            "|05/31/2022 12:00:...|  IBRD00140|EUROPE AND CENTRA...|          BE|    Belgium|MINISTERE DES FIN...|                    BE|  Belgium|      NPL|   Fully Repaid|         4.25|                  NULL|   P037358|            INDUSTRY|                 16000000|             0.0|               0.0|           1.6E7|           0.0|        0.0|                0.0|                    0|      16000000|        16000000|            0|         0|09/01/1953 12:00:...|         1969-03-01|            1949-03-01|         1949-02-08|                  1949-03-01|               1952-06-01|                  NULL|\n",
            "|05/31/2022 12:00:...|  IBRD00150|EUROPE AND CENTRA...|          NL|Netherlands|                NULL|                  NULL|     NULL|      NPL|   Fully Repaid|          4.0|                  NULL|   P037457| INDUSTRIAL PROJECTS|                 15000000|             0.0|               0.0|      7451984.72|    1025088.71|        0.0|               0.01|                 0.01|    6426896.01|      6426896.01|            0|         0|12/01/1952 12:00:...|         1964-06-01|            1949-07-26|         1949-07-26|                  1949-09-15|               1953-12-01|                  NULL|\n",
            "|05/31/2022 12:00:...|  IBRD00160|EUROPE AND CENTRA...|          FI|    Finland|                NULL|                  NULL|     NULL|      NPL|   Fully Repaid|          4.0|                  NULL|   P037366|          INDUSTRY I|                 12500000|             0.0|               0.0|          1.25E7|    6747990.11|        0.0|                0.0|                    0|    5752009.89|      5752009.89|            0|         0|02/01/1953 12:00:...|         1964-08-01|            1949-08-01|         1949-07-26|                  1949-09-12|               1953-12-31|                  NULL|\n",
            "+--------------------+-----------+--------------------+------------+-----------+--------------------+----------------------+---------+---------+---------------+-------------+----------------------+----------+--------------------+-------------------------+----------------+------------------+----------------+--------------+-----------+-------------------+---------------------+--------------+----------------+-------------+----------+--------------------+-------------------+----------------------+-------------------+----------------------------+-------------------------+----------------------+\n",
            "only showing top 20 rows\n",
            "\n"
          ]
        }
      ]
    },
    {
      "cell_type": "code",
      "source": [
        "df.dtypes"
      ],
      "metadata": {
        "colab": {
          "base_uri": "https://localhost:8080/"
        },
        "id": "W55J0zP22RwN",
        "outputId": "d3196b9a-6bdb-44ce-936c-e588c0c821b7"
      },
      "execution_count": 150,
      "outputs": [
        {
          "output_type": "execute_result",
          "data": {
            "text/plain": [
              "[('End of Period', 'string'),\n",
              " ('Loan Number', 'string'),\n",
              " ('Region', 'string'),\n",
              " ('Country Code', 'string'),\n",
              " ('Country', 'string'),\n",
              " ('Borrower', 'string'),\n",
              " ('Guarantor Country Code', 'string'),\n",
              " ('Guarantor', 'string'),\n",
              " ('Loan Type', 'string'),\n",
              " ('Loan Status', 'string'),\n",
              " ('Interest Rate', 'double'),\n",
              " ('Currency of Commitment', 'int'),\n",
              " ('Project ID', 'string'),\n",
              " ('Project Name ', 'string'),\n",
              " ('Original Principal Amount', 'string'),\n",
              " ('Cancelled Amount', 'double'),\n",
              " ('Undisbursed Amount', 'double'),\n",
              " ('Disbursed Amount', 'double'),\n",
              " ('Repaid to IBRD', 'double'),\n",
              " ('Due to IBRD', 'double'),\n",
              " ('Exchange Adjustment', 'double'),\n",
              " (\"Borrower's Obligation\", 'string'),\n",
              " ('Sold 3rd Party', 'string'),\n",
              " ('Repaid 3rd Party', 'string'),\n",
              " ('Due 3rd Party', 'string'),\n",
              " ('Loans Held', 'string'),\n",
              " ('First Repayment Date', 'string'),\n",
              " ('Last Repayment Date', 'date'),\n",
              " ('Agreement Signing Date', 'date'),\n",
              " ('Board Approval Date', 'date'),\n",
              " ('Effective Date (Most Recent)', 'date'),\n",
              " ('Closed Date (Most Recent)', 'date'),\n",
              " ('Last Disbursement Date', 'date')]"
            ]
          },
          "metadata": {},
          "execution_count": 150
        }
      ]
    },
    {
      "cell_type": "code",
      "source": [
        "df.select('Country').distinct().count()"
      ],
      "metadata": {
        "colab": {
          "base_uri": "https://localhost:8080/"
        },
        "id": "vXFL965roq3n",
        "outputId": "38d912f6-95bb-4b64-96e1-094f5b4da9b0"
      },
      "execution_count": 151,
      "outputs": [
        {
          "output_type": "execute_result",
          "data": {
            "text/plain": [
              "158"
            ]
          },
          "metadata": {},
          "execution_count": 151
        }
      ]
    },
    {
      "cell_type": "code",
      "source": [
        "df.select('*').count()"
      ],
      "metadata": {
        "colab": {
          "base_uri": "https://localhost:8080/"
        },
        "id": "jDWSE9NUqvQR",
        "outputId": "c64527ce-cbf4-49d7-a68a-4ddb91962205"
      },
      "execution_count": 152,
      "outputs": [
        {
          "output_type": "execute_result",
          "data": {
            "text/plain": [
              "1296381"
            ]
          },
          "metadata": {},
          "execution_count": 152
        }
      ]
    },
    {
      "cell_type": "markdown",
      "source": [
        "Calculating Total Original Principal Amount disbursed by World Bank to countries"
      ],
      "metadata": {
        "id": "49_bjZ1ZRX9u"
      }
    },
    {
      "cell_type": "code",
      "source": [
        "from pyspark.sql.functions import sum, col\n",
        "total_sum = df.agg(sum('Disbursed Amount').alias('Total Sum')).collect()\n",
        "total_sum"
      ],
      "metadata": {
        "colab": {
          "base_uri": "https://localhost:8080/"
        },
        "id": "GfnA4skORW02",
        "outputId": "8a9accae-fb69-4eec-cf05-08997deaa36f"
      },
      "execution_count": 153,
      "outputs": [
        {
          "output_type": "execute_result",
          "data": {
            "text/plain": [
              "[Row(Total Sum=84786557845144.34)]"
            ]
          },
          "metadata": {},
          "execution_count": 153
        }
      ]
    },
    {
      "cell_type": "code",
      "source": [
        "print(f'Total amount lent by World Bank is {total_sum[0][\"Total Sum\"]/(10 ** 12):.2f} trillion')"
      ],
      "metadata": {
        "colab": {
          "base_uri": "https://localhost:8080/"
        },
        "id": "ZEFjMaEkTTwA",
        "outputId": "4af4e376-8c88-4c7d-c010-20ab4c038655"
      },
      "execution_count": 154,
      "outputs": [
        {
          "output_type": "stream",
          "name": "stdout",
          "text": [
            "Total amount lent by World Bank is 84.79 trillion\n"
          ]
        }
      ]
    },
    {
      "cell_type": "code",
      "source": [
        "total_repaid = df.agg(sum('Repaid to IBRD').alias('repaid_to_IBRD'), sum('Repaid 3rd Party').alias('repaid_to_3rd')).collect()"
      ],
      "metadata": {
        "id": "7waR1PQnTzK_"
      },
      "execution_count": 155,
      "outputs": []
    },
    {
      "cell_type": "code",
      "source": [
        "total_repaid"
      ],
      "metadata": {
        "colab": {
          "base_uri": "https://localhost:8080/"
        },
        "id": "emQA1dRwUNL3",
        "outputId": "42a98c33-5dab-4bdb-d3c5-880f6463a611"
      },
      "execution_count": 156,
      "outputs": [
        {
          "output_type": "execute_result",
          "data": {
            "text/plain": [
              "[Row(repaid_to_IBRD=55312997979464.336, repaid_to_3rd=577125513576.4141)]"
            ]
          },
          "metadata": {},
          "execution_count": 156
        }
      ]
    },
    {
      "cell_type": "code",
      "source": [
        "total_repaid_sum = total_repaid[0]['repaid_to_IBRD'] + total_repaid[0]['repaid_to_3rd']"
      ],
      "metadata": {
        "id": "PLh3lqAxUTmH"
      },
      "execution_count": 157,
      "outputs": []
    },
    {
      "cell_type": "code",
      "source": [
        "print(f'Total amount repaid to World Bank is {total_repaid_sum/(10 ** 12):.2f} trillion')"
      ],
      "metadata": {
        "colab": {
          "base_uri": "https://localhost:8080/"
        },
        "id": "M9POSEN5Ug6R",
        "outputId": "10173b11-8839-4d6f-da76-783d2db2b737"
      },
      "execution_count": 158,
      "outputs": [
        {
          "output_type": "stream",
          "name": "stdout",
          "text": [
            "Total amount repaid to World Bank is 55.89 trillion\n"
          ]
        }
      ]
    },
    {
      "cell_type": "code",
      "source": [
        "from pyspark.sql.functions import col, desc_nulls_last"
      ],
      "metadata": {
        "id": "1WUdG1xCun-W"
      },
      "execution_count": 159,
      "outputs": []
    },
    {
      "cell_type": "code",
      "source": [
        "from os import truncate\n",
        "df.select('Country', 'Loan Number', 'Borrower', 'Loan Status', 'Interest Rate', 'Project Name ', 'Original Principal Amount', 'Disbursed Amount', 'Repaid to IBRD', 'Repaid 3rd Party', 'Due to IBRD', 'Due 3rd Party' , 'Last Disbursement Date')\\\n",
        ".filter(\"Country = 'India' AND `Loan Status` = 'Disbursed'\")\\\n",
        ".dropDuplicates(['Loan Number'])\\\n",
        ".orderBy(col('Last Disbursement Date').desc_nulls_last())\\\n",
        ".show(truncate = False)"
      ],
      "metadata": {
        "colab": {
          "base_uri": "https://localhost:8080/"
        },
        "id": "U1HX0mw5rKBM",
        "outputId": "1d37b92b-e0c5-4c08-f59d-6f6124ec2454"
      },
      "execution_count": 160,
      "outputs": [
        {
          "output_type": "stream",
          "name": "stdout",
          "text": [
            "+-------+-----------+----------------------------------------+-----------+-------------+-----------------------------------+-------------------------+----------------+--------------+----------------+-------------+-------------+----------------------+\n",
            "|Country|Loan Number|Borrower                                |Loan Status|Interest Rate|Project Name                       |Original Principal Amount|Disbursed Amount|Repaid to IBRD|Repaid 3rd Party|Due to IBRD  |Due 3rd Party|Last Disbursement Date|\n",
            "+-------+-----------+----------------------------------------+-----------+-------------+-----------------------------------+-------------------------+----------------+--------------+----------------+-------------+-------------+----------------------+\n",
            "|India  |IBRD79230  |SMALL INDUSTRIES DEVELOPMENT BK OF INDIA|Disbursed  |0.0          |IN: Microf-Scaling Up Sustnble & Re|200000000                |2.0E8           |0.0           |0               |2.0E8        |0            |2016-01-25            |\n",
            "|India  |IBRD48460  |CONTROLLER OF AID ACCOUNTS & AUDIT      |Disbursed  |1.11         |IN: TN IAM WARM                    |335000000                |2.895650448E8   |5.4555E7      |0               |2.350100448E8|0            |2015-12-31            |\n",
            "|India  |IBRD47500  |CONTROLLER OF AID ACCOUNTS & AUDIT      |Disbursed  |1.19         |IN: Madhya Pradesh Water Sector Res|394020000                |3.87402287E8    |1.410456197E8 |0               |2.463566673E8|0            |2015-11-16            |\n",
            "|India  |IBRD48180  |CONTROLLER OF AID ACCOUNTS & AUDIT      |Disbursed  |1.11         |IN: Karn Municipal Reform          |216000000                |2.046143688E8   |5.1515E7      |0               |1.530993688E8|0            |2015-08-24            |\n",
            "|India  |IBRD76130  |India Infrastructure Finance Company Ltd|Disbursed  |0.0          |IN:  IIFCL - India Infras Finance C|1195000000               |1.95E8          |0.0           |0               |1.95E8       |0            |2015-06-29            |\n",
            "|India  |IBRD48700  |SATLUJ JAL VIDYUT NIGAM LIMITED         |Disbursed  |0.54         |IN: Rampur Hydropower Project      |400000000                |4.0E8           |4.5405E7      |0               |3.54595E8    |0            |2015-04-27            |\n",
            "|India  |IBRD47490  |CONTROLLER OF AID ACCOUNTS & AUDIT      |Disbursed  |1.0          |IN: Hydrology II                   |104980000                |9.157878386E7   |3.42474709E7  |0               |5.733131296E7|0            |2014-12-11            |\n",
            "|India  |IBRD48900  |POWER GRID CORPORATION OF INDIA LIMITED |Disbursed  |0.0          |IN: Power System Development  Proje|600000000                |5.768640111E8   |4.0915E7      |0               |5.359490111E8|0            |2014-12-04            |\n",
            "|India  |IBRD75930  |POWER GRID CORPORATION OF INDIA LIMITED |Disbursed  |0.0          |IN: Power System Development  Proje|400000000                |4.0E8           |2.229348082E7 |0               |3.777065192E8|0            |2014-11-26            |\n",
            "|India  |IBRD47960  |CONTROLLER OF AID ACCOUNTS & AUDIT      |Disbursed  |1.0          |IN: MAHAR WSIP                     |325000000                |2.982781274E8   |7.020549468E7 |0               |2.280726327E8|0            |2014-08-19            |\n",
            "|India  |IBRD47980  |CONTROLLER OF AID ACCOUNTS & AUDIT      |Disbursed  |1.0          |IN: TN Urban III                   |300000000                |2.908663036E8   |6.582876175E7 |0               |2.250375419E8|0            |2014-07-30            |\n",
            "|India  |IBRD76940  |SMALL INDUSTRIES DEVELOPMENT BK OF INDIA|Disbursed  |0.0          |IN: SME Financing & Development    |400000000                |4.0E8           |0.0           |0               |4.0E8        |0            |2013-09-26            |\n",
            "|India  |IBRD81960  |CONTROLLER OF AID ACCOUNTS & AUDIT      |Disbursed  |0.0          |IN: HP DPL Green Growth            |100000000                |1.0E8           |0.0           |0               |1.0E8        |0            |2012-12-27            |\n",
            "|India  |IBRD47640  |CONTROLLER OF AID ACCOUNTS & AUDIT      |Disbursed  |0.97         |IN: Lucknow-Muzaffarpur National Hi|620000000                |6.2E8           |1.8169E8      |0               |4.3831E8     |0            |2012-11-26            |\n",
            "|India  |IBRD46650  |CONTROLLER OF AID ACCOUNTS & AUDIT      |Disbursed  |1.0          |IN: MUMBAI URBAN TRANSPORT PROJECT |463000000                |3.692683642E8   |1.496366235E8 |0               |2.196317407E8|0            |2012-08-24            |\n",
            "|India  |IBRD78650  |CONTROLLER OF AID ACCOUNTS & AUDIT      |Disbursed  |0.0          |IN: TN ROADS                       |50700000                 |3.805879759E7   |0.0           |0               |3.805879759E7|0            |2012-08-13            |\n",
            "|India  |IBRD47060  |CONTROLLER OF AID ACCOUNTS & AUDIT      |Disbursed  |1.0          |IN: TN ROADS                       |348000000                |3.462029252E8   |1.05680808E8  |0               |2.405221172E8|0            |2012-08-08            |\n",
            "|India  |IBRD47530  |CONTROLLER OF AID ACCOUNTS & AUDIT      |Disbursed  |0.91         |IN: Rural Roads Project            |99500000                 |9.95E7          |2.059E7       |0               |7.891E7      |0            |2012-08-03            |\n",
            "|India  |IBRD48720  |CONTROLLER OF AID ACCOUNTS & AUDIT      |Disbursed  |0.0          |IN: KARN Tank Mgmt                 |32000000                 |2.229217801E7   |968316.49     |0               |2.132386152E7|0            |2012-06-13            |\n",
            "|India  |IBRD48620  |CONTROLLER OF AID ACCOUNTS & AUDIT      |Disbursed  |0.0          |IN: Stren India's Rural Credit Coop|300000000                |1.362281092E8   |9361882.92    |0               |1.268662263E8|0            |2012-04-18            |\n",
            "+-------+-----------+----------------------------------------+-----------+-------------+-----------------------------------+-------------------------+----------------+--------------+----------------+-------------+-------------+----------------------+\n",
            "only showing top 20 rows\n",
            "\n"
          ]
        }
      ]
    },
    {
      "cell_type": "code",
      "source": [
        "'Country', 'Borrower', 'Loan Status', 'Interest Rate', 'Project Name ', 'Original Principal Amount' '`Disbursed Amount`', '`Repaid to IBRD`', 'Due to IBRD'"
      ],
      "metadata": {
        "colab": {
          "base_uri": "https://localhost:8080/"
        },
        "id": "c6tr402C725k",
        "outputId": "9a7ca4f9-f138-4a48-8cf0-0c52a60ddcab"
      },
      "execution_count": 161,
      "outputs": [
        {
          "output_type": "execute_result",
          "data": {
            "text/plain": [
              "('Country',\n",
              " 'Borrower',\n",
              " 'Loan Status',\n",
              " 'Interest Rate',\n",
              " 'Project Name ',\n",
              " 'Original Principal Amount`Disbursed Amount`',\n",
              " '`Repaid to IBRD`',\n",
              " 'Due to IBRD')"
            ]
          },
          "metadata": {},
          "execution_count": 161
        }
      ]
    },
    {
      "cell_type": "code",
      "source": [
        "from pyspark.sql.functions import sum, round\n",
        "df.groupBy('Country')\\\n",
        ".agg(round((sum('Disbursed Amount')/1e12),2)\\\n",
        "     .alias('Total amount in trillions'))\\\n",
        ".orderBy(col('Total amount in trillions').desc())\\\n",
        ".show()\n"
      ],
      "metadata": {
        "colab": {
          "base_uri": "https://localhost:8080/"
        },
        "id": "DuAlxNHO0pCy",
        "outputId": "60a8126b-5f99-4ec8-cf76-debe2dc7bcd8"
      },
      "execution_count": 162,
      "outputs": [
        {
          "output_type": "stream",
          "name": "stdout",
          "text": [
            "+--------------------+-------------------------+\n",
            "|             Country|Total amount in trillions|\n",
            "+--------------------+-------------------------+\n",
            "|              Brazil|                     7.86|\n",
            "|              Mexico|                     7.58|\n",
            "|           Indonesia|                      6.3|\n",
            "|               India|                     6.08|\n",
            "|               China|                     5.96|\n",
            "|              Turkey|                     4.34|\n",
            "|           Argentina|                     4.27|\n",
            "|            Colombia|                     3.43|\n",
            "|         Philippines|                     2.42|\n",
            "|  Korea, Republic of|                     2.33|\n",
            "|             Morocco|                     2.14|\n",
            "|              Poland|                     2.13|\n",
            "|Egypt, Arab Repub...|                     1.81|\n",
            "|             Romania|                     1.73|\n",
            "|  Russian Federation|                      1.6|\n",
            "|             Ukraine|                      1.4|\n",
            "|                Peru|                     1.38|\n",
            "|            Thailand|                     1.25|\n",
            "|             Tunisia|                     1.25|\n",
            "|            Pakistan|                     1.17|\n",
            "+--------------------+-------------------------+\n",
            "only showing top 20 rows\n",
            "\n"
          ]
        }
      ]
    },
    {
      "cell_type": "code",
      "source": [
        "df_debt = df.groupBy('Country')\\\n",
        ".agg(round((sum('Disbursed Amount')/1e12),2)\\\n",
        "     .alias('Debt_in_trillions'))"
      ],
      "metadata": {
        "id": "bSBeZDXJlEVU"
      },
      "execution_count": 163,
      "outputs": []
    },
    {
      "cell_type": "code",
      "source": [
        "df_debt.printSchema()"
      ],
      "metadata": {
        "colab": {
          "base_uri": "https://localhost:8080/"
        },
        "id": "-VzVtp3MmiJH",
        "outputId": "ad3d23a7-3550-4b79-e597-5f6320626dce"
      },
      "execution_count": 164,
      "outputs": [
        {
          "output_type": "stream",
          "name": "stdout",
          "text": [
            "root\n",
            " |-- Country: string (nullable = true)\n",
            " |-- Debt_in_trillions: double (nullable = true)\n",
            "\n"
          ]
        }
      ]
    },
    {
      "cell_type": "code",
      "source": [
        "from pyspark.sql.functions import avg\n",
        "df.groupBy('Country')\\\n",
        ".agg(avg('Interest Rate').alias('Average Interest Rate'))\\\n",
        ".orderBy(col('Average Interest Rate').desc())\\\n",
        ".show()"
      ],
      "metadata": {
        "colab": {
          "base_uri": "https://localhost:8080/"
        },
        "id": "TX9oJJxHQWB-",
        "outputId": "185686f1-b242-4b56-81ed-1aabb613ee28"
      },
      "execution_count": 165,
      "outputs": [
        {
          "output_type": "stream",
          "name": "stdout",
          "text": [
            "+--------------------+---------------------+\n",
            "|             Country|Average Interest Rate|\n",
            "+--------------------+---------------------+\n",
            "|              Repaid|   3734380.6100000017|\n",
            "|           Disbursed|           3734380.61|\n",
            "|                Togo|    8.853846153846154|\n",
            "|             Senegal|    8.146724282129885|\n",
            "|Syrian Arab Republic|     8.04030701754391|\n",
            "|               Ghana|    8.027873015873038|\n",
            "|             Liberia|    7.910518648018673|\n",
            "|      Western Africa|    7.859285714285693|\n",
            "|Western and Centr...|    7.855000000000005|\n",
            "|              Zambia|   7.7431219951923165|\n",
            "|               Kenya|   7.7261886195994345|\n",
            "|              Guyana|   7.7133547008546826|\n",
            "|            Tanzania|     7.45522317188986|\n",
            "|             Ireland|   7.4245192307692305|\n",
            "|        Bahamas, The|   7.4032432432431845|\n",
            "|              Greece|    7.332621028744356|\n",
            "|            Zimbabwe|    7.263411541824501|\n",
            "|            Portugal|    7.240875507942425|\n",
            "|                Oman|    7.200452991452963|\n",
            "|              Malawi|    7.198192307692342|\n",
            "+--------------------+---------------------+\n",
            "only showing top 20 rows\n",
            "\n"
          ]
        }
      ]
    },
    {
      "cell_type": "code",
      "source": [
        "df.filter('Country = \"Repaid\"').show(5)"
      ],
      "metadata": {
        "colab": {
          "base_uri": "https://localhost:8080/"
        },
        "id": "VaYq3XzNRtmw",
        "outputId": "e0330b8c-1565-47ee-d617-fb212f1313f6"
      },
      "execution_count": 166,
      "outputs": [
        {
          "output_type": "stream",
          "name": "stdout",
          "text": [
            "+--------------+-----------+-------+------------+-------+--------+----------------------+---------+-------------------+-----------+-------------+----------------------+----------+-------------+-------------------------+----------------+------------------+----------------+--------------+-----------+-------------------+---------------------+--------------------+--------------------+--------------------+--------------------+--------------------+-------------------+----------------------+-------------------+----------------------------+-------------------------+----------------------+\n",
            "| End of Period|Loan Number| Region|Country Code|Country|Borrower|Guarantor Country Code|Guarantor|          Loan Type|Loan Status|Interest Rate|Currency of Commitment|Project ID|Project Name |Original Principal Amount|Cancelled Amount|Undisbursed Amount|Disbursed Amount|Repaid to IBRD|Due to IBRD|Exchange Adjustment|Borrower's Obligation|      Sold 3rd Party|    Repaid 3rd Party|       Due 3rd Party|          Loans Held|First Repayment Date|Last Repayment Date|Agreement Signing Date|Board Approval Date|Effective Date (Most Recent)|Closed Date (Most Recent)|Last Disbursement Date|\n",
            "+--------------+-----------+-------+------------+-------+--------+----------------------+---------+-------------------+-----------+-------------+----------------------+----------+-------------+-------------------------+----------------+------------------+----------------+--------------+-----------+-------------------+---------------------+--------------------+--------------------+--------------------+--------------------+--------------------+-------------------+----------------------+-------------------+----------------------------+-------------------------+----------------------+\n",
            "|ka banka d.d.\"|         HR|Croatia|  SNGL CRNCY| Repaid|       0|                  NULL|  P040139|INVESTMENT RECOVERY|    8000000|   3734380.61|                     0|3636810.02|   4947874.26|                        0|             0.0|               0.0|             0.0|           0.0|        0.0|                0.0| 03/15/2003 12:00:...|09/15/2012 12:00:...|12/04/1997 12:00:...|11/18/1997 12:00:...|03/17/1998 12:00:...|12/31/2001 12:00:...|         2001-09-27|                  NULL|               NULL|                        NULL|                     NULL|                  NULL|\n",
            "|ka banka d.d.\"|         HR|Croatia|  SNGL CRNCY| Repaid|       0|                  NULL|  P040139|INVESTMENT RECOVERY|    8000000|   3734380.61|                     0|3636810.02|   4947874.26|                        0|             0.0|               0.0|             0.0|           0.0|        0.0|                0.0| 03/15/2003 12:00:...|09/15/2012 12:00:...|12/04/1997 12:00:...|11/18/1997 12:00:...|03/17/1998 12:00:...|12/31/2001 12:00:...|         2001-09-27|                  NULL|               NULL|                        NULL|                     NULL|                  NULL|\n",
            "|ka banka d.d.\"|         HR|Croatia|  SNGL CRNCY| Repaid|       0|                  NULL|  P040139|INVESTMENT RECOVERY|    8000000|   3734380.61|                     0|3636810.02|   4947874.26|                        0|             0.0|               0.0|             0.0|           0.0|        0.0|                0.0| 03/15/2003 12:00:...|09/15/2012 12:00:...|12/04/1997 12:00:...|11/18/1997 12:00:...|03/17/1998 12:00:...|12/31/2001 12:00:...|         2001-09-27|                  NULL|               NULL|                        NULL|                     NULL|                  NULL|\n",
            "|ka banka d.d.\"|         HR|Croatia|  SNGL CRNCY| Repaid|       0|                  NULL|  P040139|INVESTMENT RECOVERY|    8000000|   3734380.61|                     0|3636810.02|   4947874.26|                        0|             0.0|               0.0|             0.0|           0.0|        0.0|                0.0| 03/15/2003 12:00:...|09/15/2012 12:00:...|12/04/1997 12:00:...|11/18/1997 12:00:...|03/17/1998 12:00:...|12/31/2001 12:00:...|         2001-09-27|                  NULL|               NULL|                        NULL|                     NULL|                  NULL|\n",
            "|ka banka d.d.\"|         HR|Croatia|  SNGL CRNCY| Repaid|    0.67|                  NULL|  P040139|INVESTMENT RECOVERY|    8000000|   3734380.61|                     0|3636810.02|   4947874.26|                        0|             0.0|               0.0|             0.0|           0.0|        0.0|                0.0| 03/15/2003 12:00:...|09/15/2012 12:00:...|12/04/1997 12:00:...|11/18/1997 12:00:...|03/17/1998 12:00:...|12/31/2001 12:00:...|         2001-09-27|                  NULL|               NULL|                        NULL|                     NULL|                  NULL|\n",
            "+--------------+-----------+-------+------------+-------+--------+----------------------+---------+-------------------+-----------+-------------+----------------------+----------+-------------+-------------------------+----------------+------------------+----------------+--------------+-----------+-------------------+---------------------+--------------------+--------------------+--------------------+--------------------+--------------------+-------------------+----------------------+-------------------+----------------------------+-------------------------+----------------------+\n",
            "only showing top 5 rows\n",
            "\n"
          ]
        }
      ]
    },
    {
      "cell_type": "code",
      "source": [
        "df = df.filter((col('Country') != \"Repaid\") & (col('Country') != \"Disbursed\"))\n"
      ],
      "metadata": {
        "id": "VOvHQp0CSmV0"
      },
      "execution_count": 167,
      "outputs": []
    },
    {
      "cell_type": "code",
      "source": [
        "df.filter('Country = \"Repaid\"').show(5)"
      ],
      "metadata": {
        "colab": {
          "base_uri": "https://localhost:8080/"
        },
        "id": "oOHXWADhZali",
        "outputId": "acea3b17-1e3c-4841-c746-117baf2afed2"
      },
      "execution_count": 168,
      "outputs": [
        {
          "output_type": "stream",
          "name": "stdout",
          "text": [
            "+-------------+-----------+------+------------+-------+--------+----------------------+---------+---------+-----------+-------------+----------------------+----------+-------------+-------------------------+----------------+------------------+----------------+--------------+-----------+-------------------+---------------------+--------------+----------------+-------------+----------+--------------------+-------------------+----------------------+-------------------+----------------------------+-------------------------+----------------------+\n",
            "|End of Period|Loan Number|Region|Country Code|Country|Borrower|Guarantor Country Code|Guarantor|Loan Type|Loan Status|Interest Rate|Currency of Commitment|Project ID|Project Name |Original Principal Amount|Cancelled Amount|Undisbursed Amount|Disbursed Amount|Repaid to IBRD|Due to IBRD|Exchange Adjustment|Borrower's Obligation|Sold 3rd Party|Repaid 3rd Party|Due 3rd Party|Loans Held|First Repayment Date|Last Repayment Date|Agreement Signing Date|Board Approval Date|Effective Date (Most Recent)|Closed Date (Most Recent)|Last Disbursement Date|\n",
            "+-------------+-----------+------+------------+-------+--------+----------------------+---------+---------+-----------+-------------+----------------------+----------+-------------+-------------------------+----------------+------------------+----------------+--------------+-----------+-------------------+---------------------+--------------+----------------+-------------+----------+--------------------+-------------------+----------------------+-------------------+----------------------------+-------------------------+----------------------+\n",
            "+-------------+-----------+------+------------+-------+--------+----------------------+---------+---------+-----------+-------------+----------------------+----------+-------------+-------------------------+----------------+------------------+----------------+--------------+-----------+-------------------+---------------------+--------------+----------------+-------------+----------+--------------------+-------------------+----------------------+-------------------+----------------------------+-------------------------+----------------------+\n",
            "\n"
          ]
        }
      ]
    },
    {
      "cell_type": "code",
      "source": [
        "df.groupBy('Country')\\\n",
        ".agg(round(avg('Interest Rate'),2).alias('Average Interest Rate'))\\\n",
        ".orderBy(col('Average Interest Rate').desc())\\\n",
        ".show()"
      ],
      "metadata": {
        "colab": {
          "base_uri": "https://localhost:8080/"
        },
        "id": "QBWD1S56S22M",
        "outputId": "ebde7aef-8084-49b0-afd8-ca270eda2d76"
      },
      "execution_count": 169,
      "outputs": [
        {
          "output_type": "stream",
          "name": "stdout",
          "text": [
            "+--------------------+---------------------+\n",
            "|             Country|Average Interest Rate|\n",
            "+--------------------+---------------------+\n",
            "|                Togo|                 8.85|\n",
            "|             Senegal|                 8.15|\n",
            "|Syrian Arab Republic|                 8.04|\n",
            "|               Ghana|                 8.03|\n",
            "|             Liberia|                 7.91|\n",
            "|      Western Africa|                 7.86|\n",
            "|Western and Centr...|                 7.86|\n",
            "|              Zambia|                 7.74|\n",
            "|               Kenya|                 7.73|\n",
            "|              Guyana|                 7.71|\n",
            "|            Tanzania|                 7.46|\n",
            "|             Ireland|                 7.42|\n",
            "|        Bahamas, The|                  7.4|\n",
            "|              Greece|                 7.33|\n",
            "|            Zimbabwe|                 7.26|\n",
            "|            Portugal|                 7.24|\n",
            "|                Oman|                  7.2|\n",
            "|              Malawi|                  7.2|\n",
            "|              Cyprus|                 7.13|\n",
            "|        Sierra Leone|                  7.1|\n",
            "+--------------------+---------------------+\n",
            "only showing top 20 rows\n",
            "\n"
          ]
        }
      ]
    },
    {
      "cell_type": "code",
      "source": [
        "total_repaid = df.filter('Country = \"India\"')\\\n",
        ".agg({\n",
        "    'Repaid to IBRD':'sum',\n",
        "    'Repaid 3rd Party':'sum'\n",
        "    })\\\n",
        ".collect()"
      ],
      "metadata": {
        "id": "C8Fu40UXE7r5"
      },
      "execution_count": 170,
      "outputs": []
    },
    {
      "cell_type": "code",
      "source": [
        "total_repaid"
      ],
      "metadata": {
        "colab": {
          "base_uri": "https://localhost:8080/"
        },
        "id": "f2ptVgTKJDdY",
        "outputId": "b8557df8-682a-4166-f962-78d09d27f677"
      },
      "execution_count": 171,
      "outputs": [
        {
          "output_type": "execute_result",
          "data": {
            "text/plain": [
              "[Row(sum(Repaid to IBRD)=3798826074929.1987, sum(Repaid 3rd Party)=21002616619.550037)]"
            ]
          },
          "metadata": {},
          "execution_count": 171
        }
      ]
    },
    {
      "cell_type": "code",
      "source": [
        "total_repaid_sum = total_repaid[0]['sum(Repaid to IBRD)'] + total_repaid[0]['sum(Repaid 3rd Party)']"
      ],
      "metadata": {
        "id": "JQ3AmCHrJbYJ"
      },
      "execution_count": 172,
      "outputs": []
    },
    {
      "cell_type": "code",
      "source": [
        "total_repaid_sum"
      ],
      "metadata": {
        "colab": {
          "base_uri": "https://localhost:8080/"
        },
        "id": "hq2yUbKUKCrY",
        "outputId": "9dd49fc9-c1b0-42ea-de0f-620f0cd34e4e"
      },
      "execution_count": 173,
      "outputs": [
        {
          "output_type": "execute_result",
          "data": {
            "text/plain": [
              "3819828691548.7485"
            ]
          },
          "metadata": {},
          "execution_count": 173
        }
      ]
    },
    {
      "cell_type": "code",
      "source": [
        "print(f'Total loan repaid is {total_repaid_sum/(10 ** 12):.2f} trillion USD')"
      ],
      "metadata": {
        "colab": {
          "base_uri": "https://localhost:8080/"
        },
        "id": "Zk6MKmDWKfNp",
        "outputId": "973e4cff-a2ec-4aa1-e3f2-e078e1bc03df"
      },
      "execution_count": 174,
      "outputs": [
        {
          "output_type": "stream",
          "name": "stdout",
          "text": [
            "Total loan repaid is 3.82 trillion USD\n"
          ]
        }
      ]
    },
    {
      "cell_type": "code",
      "source": [
        "total_due = df.filter('Country = \"India\"')\\\n",
        ".agg(\n",
        "    sum('Due to IBRD').alias('due_to_IBRD'),\n",
        "    sum('Due 3rd Party').alias('due_3rd_party'))\\\n",
        ".collect()"
      ],
      "metadata": {
        "id": "LDfTQZAGMIlW"
      },
      "execution_count": 175,
      "outputs": []
    },
    {
      "cell_type": "code",
      "source": [
        "total_due_sum = total_due[0]['due_to_IBRD'] + total_due[0]['due_3rd_party']"
      ],
      "metadata": {
        "id": "Rdq-umxVM-ro"
      },
      "execution_count": 176,
      "outputs": []
    },
    {
      "cell_type": "code",
      "source": [
        "print(f'Total loan amount due is {total_due_sum/(10 ** 12):.2f} trillion USD')"
      ],
      "metadata": {
        "colab": {
          "base_uri": "https://localhost:8080/"
        },
        "id": "aNWQSPUeQlXv",
        "outputId": "2f0e5058-9f29-4850-e55a-b16583353e8c"
      },
      "execution_count": 177,
      "outputs": [
        {
          "output_type": "stream",
          "name": "stdout",
          "text": [
            "Total loan amount due is 2.26 trillion USD\n"
          ]
        }
      ]
    },
    {
      "cell_type": "code",
      "source": [
        "from pyspark.sql.functions import desc, sum, rank\n",
        "from pyspark.sql.window import Window\n",
        "window_spec = Window.partitionBy(\"Country\").orderBy(sum(\"Disbursed Amount\").desc())\n"
      ],
      "metadata": {
        "id": "vho0VYkFef3E"
      },
      "execution_count": 178,
      "outputs": []
    },
    {
      "cell_type": "code",
      "source": [
        "df_1 = df.groupBy('Country').agg(\n",
        "    sum('Disbursed Amount').alias('Disbursed Amount')\n",
        "    )\n"
      ],
      "metadata": {
        "id": "ZcujEq0kgA1P"
      },
      "execution_count": 179,
      "outputs": []
    },
    {
      "cell_type": "code",
      "source": [
        "df_1.show()"
      ],
      "metadata": {
        "colab": {
          "base_uri": "https://localhost:8080/"
        },
        "id": "fqxuKzaIjnLS",
        "outputId": "464e42ff-2877-414f-f4a0-8d6fc0535422"
      },
      "execution_count": 180,
      "outputs": [
        {
          "output_type": "stream",
          "name": "stdout",
          "text": [
            "+------------------+--------------------+\n",
            "|           Country|    Disbursed Amount|\n",
            "+------------------+--------------------+\n",
            "|              Chad| 5.828176581239996E9|\n",
            "|          Paraguay| 2.19359903840371E11|\n",
            "|           Senegal|2.023023515663971...|\n",
            "|     Taiwan, China|4.863627259274998...|\n",
            "|        Cabo Verde| 6.219164082819994E9|\n",
            "|            Guyana|1.196520893515998...|\n",
            "|       Philippines|2.418722022453353E12|\n",
            "|          Malaysia|5.102331510383356...|\n",
            "|         Singapore|2.815845939434989...|\n",
            "|              Fiji|3.162642482627992...|\n",
            "|            Turkey|4.335420830010125...|\n",
            "|            Malawi|1.640907883333001...|\n",
            "|              Iraq|3.520561131425398...|\n",
            "|            Jordan|6.788526293701582E11|\n",
            "|             Sudan|2.182079405579997...|\n",
            "|            France|            3.925E10|\n",
            "|            Greece|5.845748365453957E10|\n",
            "|            Kosovo|5.591854442784003...|\n",
            "|Yugoslavia, former| 8.97100158561601E10|\n",
            "|         Sri Lanka|6.506987738941989E10|\n",
            "+------------------+--------------------+\n",
            "only showing top 20 rows\n",
            "\n"
          ]
        }
      ]
    },
    {
      "cell_type": "code",
      "source": [
        "window_spec = Window.orderBy(df_1[\"Disbursed Amount\"].desc())\n"
      ],
      "metadata": {
        "id": "0HFFV4nGkjv6"
      },
      "execution_count": 181,
      "outputs": []
    },
    {
      "cell_type": "code",
      "source": [
        "ranked_df = df_1.select(\n",
        "    \"Country\",\n",
        "    \"Disbursed Amount\",\n",
        "    rank().over(window_spec).alias(\"Loan Rank\")\n",
        ")"
      ],
      "metadata": {
        "id": "SjjCii4Tj1Oo"
      },
      "execution_count": 182,
      "outputs": []
    },
    {
      "cell_type": "code",
      "source": [
        "ranked_df.show()"
      ],
      "metadata": {
        "colab": {
          "base_uri": "https://localhost:8080/"
        },
        "id": "vbR877BukmFf",
        "outputId": "81f96258-f9b3-4057-e746-56ab48ec112c"
      },
      "execution_count": 183,
      "outputs": [
        {
          "output_type": "stream",
          "name": "stdout",
          "text": [
            "+--------------------+--------------------+---------+\n",
            "|             Country|    Disbursed Amount|Loan Rank|\n",
            "+--------------------+--------------------+---------+\n",
            "|              Brazil|7.858129598973741E12|        1|\n",
            "|              Mexico|7.578693649406748E12|        2|\n",
            "|           Indonesia|6.296142982180327E12|        3|\n",
            "|               India|6.076481996997463E12|        4|\n",
            "|               China| 5.96343202387073E12|        5|\n",
            "|              Turkey|4.335420830010125...|        6|\n",
            "|           Argentina| 4.26955781699128E12|        7|\n",
            "|            Colombia|3.432944677713122E12|        8|\n",
            "|         Philippines|2.418722022453353E12|        9|\n",
            "|  Korea, Republic of|2.334320011551867...|       10|\n",
            "|             Morocco|2.141130484417415E12|       11|\n",
            "|              Poland|2.125257762680814...|       12|\n",
            "|Egypt, Arab Repub...|1.812073095382333...|       13|\n",
            "|             Romania|1.733573920506731E12|       14|\n",
            "|  Russian Federation|1.604793399069028...|       15|\n",
            "|             Ukraine|1.400439776806411E12|       16|\n",
            "|                Peru|1.376040676376754E12|       17|\n",
            "|            Thailand|1.252198261976440...|       18|\n",
            "|             Tunisia|1.248525643737415...|       19|\n",
            "|            Pakistan|1.172249879719952...|       20|\n",
            "+--------------------+--------------------+---------+\n",
            "only showing top 20 rows\n",
            "\n"
          ]
        }
      ]
    },
    {
      "cell_type": "code",
      "source": [
        "df.select('Region').distinct().show(truncate=False)"
      ],
      "metadata": {
        "colab": {
          "base_uri": "https://localhost:8080/"
        },
        "id": "fm7NxiSt40S-",
        "outputId": "3cccae03-2ba0-43f2-c35f-50d95741ab4a"
      },
      "execution_count": 184,
      "outputs": [
        {
          "output_type": "stream",
          "name": "stdout",
          "text": [
            "+----------------------------+\n",
            "|Region                      |\n",
            "+----------------------------+\n",
            "|AFRICA WEST                 |\n",
            "|AFRICA EAST                 |\n",
            "|LATIN AMERICA AND CARIBBEAN |\n",
            "|SOUTH ASIA                  |\n",
            "|EASTERN AND SOUTHERN AFRICA |\n",
            "|AFRICA                      |\n",
            "|MIDDLE EAST AND NORTH AFRICA|\n",
            "|EAST ASIA AND PACIFIC       |\n",
            "|EUROPE AND CENTRAL ASIA     |\n",
            "|WESTERN AND CENTRAL AFRICA  |\n",
            "|Western and Central Africa  |\n",
            "|Eastern and Southern Africa |\n",
            "+----------------------------+\n",
            "\n"
          ]
        }
      ]
    },
    {
      "cell_type": "code",
      "source": [
        "from pyspark.sql.functions import countDistinct,round\n",
        "df.groupBy('Region')\\\n",
        ".agg(countDistinct('Country').alias('Country Count by Region'))\\\n",
        ".orderBy(col('Country Count by Region').desc())\\\n",
        ".show(truncate = False)"
      ],
      "metadata": {
        "colab": {
          "base_uri": "https://localhost:8080/"
        },
        "id": "F8VfS-u58qqt",
        "outputId": "d40a3c1d-3d60-4a56-a533-4dea138ba911"
      },
      "execution_count": 185,
      "outputs": [
        {
          "output_type": "stream",
          "name": "stdout",
          "text": [
            "+----------------------------+-----------------------+\n",
            "|Region                      |Country Count by Region|\n",
            "+----------------------------+-----------------------+\n",
            "|EUROPE AND CENTRAL ASIA     |48                     |\n",
            "|AFRICA                      |39                     |\n",
            "|LATIN AMERICA AND CARIBBEAN |33                     |\n",
            "|AFRICA EAST                 |22                     |\n",
            "|EASTERN AND SOUTHERN AFRICA |22                     |\n",
            "|Eastern and Southern Africa |22                     |\n",
            "|EAST ASIA AND PACIFIC       |18                     |\n",
            "|AFRICA WEST                 |15                     |\n",
            "|Western and Central Africa  |15                     |\n",
            "|WESTERN AND CENTRAL AFRICA  |15                     |\n",
            "|MIDDLE EAST AND NORTH AFRICA|12                     |\n",
            "|SOUTH ASIA                  |4                      |\n",
            "+----------------------------+-----------------------+\n",
            "\n"
          ]
        }
      ]
    },
    {
      "cell_type": "code",
      "source": [
        "df.select('Region').filter('Country = \"India\"').distinct().show()"
      ],
      "metadata": {
        "colab": {
          "base_uri": "https://localhost:8080/"
        },
        "id": "cjJScPZ7AL5j",
        "outputId": "f24f0edb-21bd-432c-91cb-823bf2d0a925"
      },
      "execution_count": 186,
      "outputs": [
        {
          "output_type": "stream",
          "name": "stdout",
          "text": [
            "+----------+\n",
            "|    Region|\n",
            "+----------+\n",
            "|SOUTH ASIA|\n",
            "+----------+\n",
            "\n"
          ]
        }
      ]
    },
    {
      "cell_type": "code",
      "source": [
        "df.groupBy('Region')\\\n",
        ".agg(round((sum('Disbursed Amount')/1e12),2).alias('Loan lent by Region in trillions'))\\\n",
        ".orderBy(col('Loan lent by Region in trillions').desc())\\\n",
        ".show(truncate = False)"
      ],
      "metadata": {
        "colab": {
          "base_uri": "https://localhost:8080/"
        },
        "id": "ASyZi2l5Afna",
        "outputId": "d410a362-85b6-4d8f-fcc4-9112fa49be44"
      },
      "execution_count": 187,
      "outputs": [
        {
          "output_type": "stream",
          "name": "stdout",
          "text": [
            "+----------------------------+--------------------------------+\n",
            "|Region                      |Loan lent by Region in trillions|\n",
            "+----------------------------+--------------------------------+\n",
            "|LATIN AMERICA AND CARIBBEAN |29.31                           |\n",
            "|EAST ASIA AND PACIFIC       |19.49                           |\n",
            "|EUROPE AND CENTRAL ASIA     |17.85                           |\n",
            "|MIDDLE EAST AND NORTH AFRICA|7.7                             |\n",
            "|SOUTH ASIA                  |7.32                            |\n",
            "|AFRICA                      |2.04                            |\n",
            "|EASTERN AND SOUTHERN AFRICA |0.31                            |\n",
            "|WESTERN AND CENTRAL AFRICA  |0.27                            |\n",
            "|AFRICA WEST                 |0.24                            |\n",
            "|AFRICA EAST                 |0.22                            |\n",
            "|Western and Central Africa  |0.01                            |\n",
            "|Eastern and Southern Africa |0.01                            |\n",
            "+----------------------------+--------------------------------+\n",
            "\n"
          ]
        }
      ]
    },
    {
      "cell_type": "markdown",
      "source": [
        "Calculate the total number of fully repaid projects for each region"
      ],
      "metadata": {
        "id": "YcvV3TwuCmk9"
      }
    },
    {
      "cell_type": "code",
      "source": [
        "df.filter('`Loan Status` = \"Fully Repaid\"' )\\\n",
        ".groupBy('Region')\\\n",
        ".count()\\\n",
        ".orderBy(col('count').desc())\\\n",
        ".show(truncate = False)"
      ],
      "metadata": {
        "colab": {
          "base_uri": "https://localhost:8080/"
        },
        "id": "uxIQFchsCmNv",
        "outputId": "a58260d2-2f03-4ca5-9b18-831947835fcb"
      },
      "execution_count": 188,
      "outputs": [
        {
          "output_type": "stream",
          "name": "stdout",
          "text": [
            "+----------------------------+------+\n",
            "|Region                      |count |\n",
            "+----------------------------+------+\n",
            "|LATIN AMERICA AND CARIBBEAN |180372|\n",
            "|EAST ASIA AND PACIFIC       |125724|\n",
            "|EUROPE AND CENTRAL ASIA     |97421 |\n",
            "|MIDDLE EAST AND NORTH AFRICA|67796 |\n",
            "|AFRICA                      |30613 |\n",
            "|SOUTH ASIA                  |26520 |\n",
            "|WESTERN AND CENTRAL AFRICA  |7876  |\n",
            "|AFRICA WEST                 |7490  |\n",
            "|EASTERN AND SOUTHERN AFRICA |6549  |\n",
            "|AFRICA EAST                 |6223  |\n",
            "|Western and Central Africa  |358   |\n",
            "|Eastern and Southern Africa |297   |\n",
            "+----------------------------+------+\n",
            "\n"
          ]
        }
      ]
    },
    {
      "cell_type": "code",
      "source": [
        "df.select('Loan Status').distinct().show()"
      ],
      "metadata": {
        "colab": {
          "base_uri": "https://localhost:8080/"
        },
        "id": "8UKWKqILxO__",
        "outputId": "3d941261-aa60-4ac1-abad-433d34171a4e"
      },
      "execution_count": 189,
      "outputs": [
        {
          "output_type": "stream",
          "name": "stdout",
          "text": [
            "+-------------------+\n",
            "|        Loan Status|\n",
            "+-------------------+\n",
            "|         Disbursing|\n",
            "|Disbursing&Repaying|\n",
            "|           Approved|\n",
            "|    Fully Cancelled|\n",
            "|          Cancelled|\n",
            "|             Signed|\n",
            "|          Effective|\n",
            "|         Terminated|\n",
            "|    Fully Disbursed|\n",
            "|          Disbursed|\n",
            "|           Repaying|\n",
            "|  Fully Transferred|\n",
            "|             Repaid|\n",
            "|       Fully Repaid|\n",
            "|         Negotiated|\n",
            "|              Draft|\n",
            "|               NULL|\n",
            "+-------------------+\n",
            "\n"
          ]
        }
      ]
    },
    {
      "cell_type": "code",
      "source": [
        "df_gdp = spark.read.csv('/content/drive/MyDrive/WB_Data/API_NY.GDP.MKTP.CD_DS2_en_csv_v2_2.csv', header = True)"
      ],
      "metadata": {
        "id": "uPuE4YuqUw0x"
      },
      "execution_count": 190,
      "outputs": []
    },
    {
      "cell_type": "code",
      "source": [
        "df_gdp.show(truncate = False)"
      ],
      "metadata": {
        "colab": {
          "base_uri": "https://localhost:8080/"
        },
        "id": "dmQ0HCyJU9Bs",
        "outputId": "d821f7a4-d0a0-4bba-f0d8-55dbcb3055c8"
      },
      "execution_count": 191,
      "outputs": [
        {
          "output_type": "stream",
          "name": "stdout",
          "text": [
            "+---------------------------+----------------------------+-----------------+\n",
            "|Data Source                |World Development Indicators|_c2              |\n",
            "+---------------------------+----------------------------+-----------------+\n",
            "|Last Updated Date          |2024-02-21                  |NULL             |\n",
            "|Country Name               |Country Code                |Indicator Name   |\n",
            "|Aruba                      |ABW                         |GDP (current US$)|\n",
            "|Africa Eastern and Southern|AFE                         |GDP (current US$)|\n",
            "|Afghanistan                |AFG                         |GDP (current US$)|\n",
            "|Africa Western and Central |AFW                         |GDP (current US$)|\n",
            "|Angola                     |AGO                         |GDP (current US$)|\n",
            "|Albania                    |ALB                         |GDP (current US$)|\n",
            "|Andorra                    |AND                         |GDP (current US$)|\n",
            "|Arab World                 |ARB                         |GDP (current US$)|\n",
            "|United Arab Emirates       |ARE                         |GDP (current US$)|\n",
            "|Argentina                  |ARG                         |GDP (current US$)|\n",
            "|Armenia                    |ARM                         |GDP (current US$)|\n",
            "|American Samoa             |ASM                         |GDP (current US$)|\n",
            "|Antigua and Barbuda        |ATG                         |GDP (current US$)|\n",
            "|Australia                  |AUS                         |GDP (current US$)|\n",
            "|Austria                    |AUT                         |GDP (current US$)|\n",
            "|Azerbaijan                 |AZE                         |GDP (current US$)|\n",
            "|Burundi                    |BDI                         |GDP (current US$)|\n",
            "|Belgium                    |BEL                         |GDP (current US$)|\n",
            "+---------------------------+----------------------------+-----------------+\n",
            "only showing top 20 rows\n",
            "\n"
          ]
        }
      ]
    },
    {
      "cell_type": "code",
      "source": [
        "rdd = spark.sparkContext.textFile('/content/drive/MyDrive/WB_Data/API_NY.GDP.MKTP.CD_DS2_en_csv_v2_2.csv')"
      ],
      "metadata": {
        "id": "g7ZrtR2ecjKF"
      },
      "execution_count": 192,
      "outputs": []
    },
    {
      "cell_type": "code",
      "source": [
        "rdd.take(30)[28]"
      ],
      "metadata": {
        "colab": {
          "base_uri": "https://localhost:8080/",
          "height": 160
        },
        "id": "kQQ7E0wPcoTl",
        "outputId": "1259c52d-6b2a-42b7-d147-7f61e5e3008a"
      },
      "execution_count": 193,
      "outputs": [
        {
          "output_type": "execute_result",
          "data": {
            "text/plain": [
              "'\"Bahamas, The\",\"BHS\",\"GDP (current US$)\",\"NY.GDP.MKTP.CD\",\"169803921.568627\",\"190098039.215686\",\"212254901.960784\",\"237745098.039216\",\"266666666.666667\",\"300392156.862745\",\"340000000\",\"390196078.431373\",\"444901960.784314\",\"528137254.901961\",\"538423153.692615\",\"573400000\",\"590900000\",\"670900000\",\"632400000\",\"596200000\",\"642100000\",\"713000000\",\"832400000\",\"1139800100\",\"1335300000\",\"1426500000\",\"1578300000\",\"1732800000\",\"2041100000\",\"2320699900\",\"2472500000\",\"2713999900\",\"2817900000\",\"3062000000\",\"3166000000\",\"3111160000\",\"3109000000\",\"3092000000\",\"3259000000\",\"3429000000\",\"3609000000\",\"6332360000\",\"6833220000\",\"7683870000\",\"8076470000\",\"8317830000\",\"8881160000\",\"8870090000\",\"9055290000\",\"9836200000\",\"10167250000\",\"10618340000\",\"10526000000\",\"9981960000\",\"10095760000\",\"10070450000\",\"10720400000\",\"10395500000\",\"10974800000\",\"11672900000\",\"11750800000\",\"12253500000\",\"12653600000\",\"13058700000\",\"9754600000\",\"11527600000\",\"12897400000\",'"
            ],
            "application/vnd.google.colaboratory.intrinsic+json": {
              "type": "string"
            }
          },
          "metadata": {},
          "execution_count": 193
        }
      ]
    },
    {
      "cell_type": "code",
      "source": [
        "header = rdd.filter(lambda x: \"Country Name\" in x).first()"
      ],
      "metadata": {
        "id": "xhT3JdoSgltZ"
      },
      "execution_count": 194,
      "outputs": []
    },
    {
      "cell_type": "code",
      "source": [
        "header"
      ],
      "metadata": {
        "colab": {
          "base_uri": "https://localhost:8080/",
          "height": 107
        },
        "id": "6_MUGVWeg1qI",
        "outputId": "b7f0f026-c5a0-402b-efd8-9fcb20479134"
      },
      "execution_count": 195,
      "outputs": [
        {
          "output_type": "execute_result",
          "data": {
            "text/plain": [
              "'\"Country Name\",\"Country Code\",\"Indicator Name\",\"Indicator Code\",\"1960\",\"1961\",\"1962\",\"1963\",\"1964\",\"1965\",\"1966\",\"1967\",\"1968\",\"1969\",\"1970\",\"1971\",\"1972\",\"1973\",\"1974\",\"1975\",\"1976\",\"1977\",\"1978\",\"1979\",\"1980\",\"1981\",\"1982\",\"1983\",\"1984\",\"1985\",\"1986\",\"1987\",\"1988\",\"1989\",\"1990\",\"1991\",\"1992\",\"1993\",\"1994\",\"1995\",\"1996\",\"1997\",\"1998\",\"1999\",\"2000\",\"2001\",\"2002\",\"2003\",\"2004\",\"2005\",\"2006\",\"2007\",\"2008\",\"2009\",\"2010\",\"2011\",\"2012\",\"2013\",\"2014\",\"2015\",\"2016\",\"2017\",\"2018\",\"2019\",\"2020\",\"2021\",\"2022\",'"
            ],
            "application/vnd.google.colaboratory.intrinsic+json": {
              "type": "string"
            }
          },
          "metadata": {},
          "execution_count": 195
        }
      ]
    },
    {
      "cell_type": "code",
      "source": [
        "type(header)"
      ],
      "metadata": {
        "colab": {
          "base_uri": "https://localhost:8080/"
        },
        "id": "VlxD5heZpcMx",
        "outputId": "bfe420c1-af53-4b23-a2bd-1f3a6aeda654"
      },
      "execution_count": 196,
      "outputs": [
        {
          "output_type": "execute_result",
          "data": {
            "text/plain": [
              "str"
            ]
          },
          "metadata": {},
          "execution_count": 196
        }
      ]
    },
    {
      "cell_type": "code",
      "source": [
        "indexed_rdd = rdd.zipWithIndex()\n"
      ],
      "metadata": {
        "id": "fFmBPtpAlrwD"
      },
      "execution_count": 197,
      "outputs": []
    },
    {
      "cell_type": "code",
      "source": [
        "indexed_rdd.take(5)[4]"
      ],
      "metadata": {
        "colab": {
          "base_uri": "https://localhost:8080/"
        },
        "id": "fD24y8lcltFI",
        "outputId": "32393834-c821-4253-b5c1-aed8ee0a04e2"
      },
      "execution_count": 198,
      "outputs": [
        {
          "output_type": "execute_result",
          "data": {
            "text/plain": [
              "('\"Country Name\",\"Country Code\",\"Indicator Name\",\"Indicator Code\",\"1960\",\"1961\",\"1962\",\"1963\",\"1964\",\"1965\",\"1966\",\"1967\",\"1968\",\"1969\",\"1970\",\"1971\",\"1972\",\"1973\",\"1974\",\"1975\",\"1976\",\"1977\",\"1978\",\"1979\",\"1980\",\"1981\",\"1982\",\"1983\",\"1984\",\"1985\",\"1986\",\"1987\",\"1988\",\"1989\",\"1990\",\"1991\",\"1992\",\"1993\",\"1994\",\"1995\",\"1996\",\"1997\",\"1998\",\"1999\",\"2000\",\"2001\",\"2002\",\"2003\",\"2004\",\"2005\",\"2006\",\"2007\",\"2008\",\"2009\",\"2010\",\"2011\",\"2012\",\"2013\",\"2014\",\"2015\",\"2016\",\"2017\",\"2018\",\"2019\",\"2020\",\"2021\",\"2022\",',\n",
              " 4)"
            ]
          },
          "metadata": {},
          "execution_count": 198
        }
      ]
    },
    {
      "cell_type": "code",
      "source": [
        "header_index = indexed_rdd.filter(lambda x: \"Country Name\" in x[0]).first()[1]"
      ],
      "metadata": {
        "id": "HD0YsgAQl7Ah"
      },
      "execution_count": 199,
      "outputs": []
    },
    {
      "cell_type": "code",
      "source": [
        "header_index"
      ],
      "metadata": {
        "colab": {
          "base_uri": "https://localhost:8080/"
        },
        "id": "ivGOe2ILn4Uh",
        "outputId": "4bb0b317-72c1-4b08-d709-355b15ad076c"
      },
      "execution_count": 200,
      "outputs": [
        {
          "output_type": "execute_result",
          "data": {
            "text/plain": [
              "4"
            ]
          },
          "metadata": {},
          "execution_count": 200
        }
      ]
    },
    {
      "cell_type": "code",
      "source": [
        "original_rdd_with_index = indexed_rdd.filter(lambda x: x[1]>header_index)"
      ],
      "metadata": {
        "id": "3LKzWPpCn-zH"
      },
      "execution_count": 201,
      "outputs": []
    },
    {
      "cell_type": "code",
      "source": [
        "original_rdd_with_index.take(5)"
      ],
      "metadata": {
        "colab": {
          "base_uri": "https://localhost:8080/"
        },
        "id": "Bo0epymIoXcZ",
        "outputId": "1b21162d-4dd4-4613-af32-31d04809c0be"
      },
      "execution_count": 202,
      "outputs": [
        {
          "output_type": "execute_result",
          "data": {
            "text/plain": [
              "[('\"Aruba\",\"ABW\",\"GDP (current US$)\",\"NY.GDP.MKTP.CD\",\"\",\"\",\"\",\"\",\"\",\"\",\"\",\"\",\"\",\"\",\"\",\"\",\"\",\"\",\"\",\"\",\"\",\"\",\"\",\"\",\"\",\"\",\"\",\"\",\"\",\"\",\"405586592.178771\",\"487709497.206704\",\"596648044.692737\",\"695530726.256983\",\"764804469.273743\",\"872067039.106145\",\"958659217.877095\",\"1083240223.46369\",\"1245810055.86592\",\"1320670391.06145\",\"1379888268.15642\",\"1531843575.41899\",\"1665363128.49162\",\"1722905027.93296\",\"1873452513.96648\",\"1896456983.24022\",\"1961843575.41899\",\"2044111731.84358\",\"2254830726.25698\",\"2360017318.43575\",\"2469782681.56425\",\"2677641340.78212\",\"2843024581.00559\",\"2553793296.08939\",\"2453597206.70391\",\"2637859217.87709\",\"2615208379.88827\",\"2727849720.67039\",\"2790849720.67039\",\"2962907262.56983\",\"2983635195.53073\",\"3092429050.27933\",\"3276184357.5419\",\"3395798882.68156\",\"2558906303.88098\",\"3103184101.51354\",\"3544707788.05664\",',\n",
              "  5),\n",
              " ('\"Africa Eastern and Southern\",\"AFE\",\"GDP (current US$)\",\"NY.GDP.MKTP.CD\",\"18478095142.1781\",\"19366314294.0882\",\"20506467177.8699\",\"22242734491.0409\",\"24294329779.9037\",\"26619560806.5041\",\"28732792825.1557\",\"31592963095.075\",\"34216506003.7724\",\"38498685902.3198\",\"41938907715.5921\",\"45920167032.339\",\"49440744172.338\",\"64933825429.4261\",\"79888146173.0089\",\"84955085378.787\",\"85050300129.2175\",\"94566922081.6133\",\"105623414443.521\",\"125656371097.882\",\"166475050971.984\",\"173673510912.351\",\"164114068718.601\",\"175108664048.273\",\"162752141155.351\",\"135795509169.566\",\"153368683414.31\",\"186594742538.673\",\"205635932770.809\",\"218577418670.295\",\"254673510115.591\",\"275622021261.09\",\"240210577721.912\",\"238353057845.691\",\"241158029890.41\",\"270813961389.262\",\"268992901985.369\",\"284065411886.655\",\"267286689939.3\",\"263674195227.713\",\"285403765401.254\",\"260218617002.669\",\"267142068310.105\",\"354907412306.554\",\"441359590323.394\",\"514927086452.789\",\"578633287253.354\",\"664099392606.403\",\"711800460143.432\",\"723512528253.909\",\"867040920627.224\",\"971667511047.106\",\"979996860991.405\",\"986342932619.106\",\"1006992481353.94\",\"932513471557.123\",\"890051427265.996\",\"1028394291260.59\",\"1012521425296.35\",\"1006191000190.48\",\"928880235176.594\",\"1086530704900.5\",\"1185137703650.99\",',\n",
              "  6),\n",
              " ('\"Afghanistan\",\"AFG\",\"GDP (current US$)\",\"NY.GDP.MKTP.CD\",\"537777811.111111\",\"548888895.555556\",\"546666677.777778\",\"751111191.111111\",\"800000044.444444\",\"1006666637.77778\",\"1399999966.66667\",\"1673333417.77778\",\"1373333366.66667\",\"1408888922.22222\",\"1748886595.55556\",\"1831108971.11111\",\"1595555475.55556\",\"1733333264.44444\",\"2155555497.77778\",\"2366666615.55556\",\"2555555566.66667\",\"2953333417.77778\",\"3300000108.88889\",\"3697940409.61098\",\"3641723321.99546\",\"3478787909.09091\",\"\",\"\",\"\",\"\",\"\",\"\",\"\",\"\",\"\",\"\",\"\",\"\",\"\",\"\",\"\",\"\",\"\",\"\",\"\",\"\",\"3825701405.51958\",\"4520946849.32079\",\"5224896718.67782\",\"6203256497.09044\",\"6971758332.88917\",\"9747886104.53251\",\"10109296957.6569\",\"12416152648.0573\",\"15856668496.388\",\"17805098367.2952\",\"19907329905.9776\",\"20146416876.3886\",\"20497128600.3363\",\"19134221744.5294\",\"18116572399.1298\",\"18753456506.5708\",\"18053222734.8881\",\"18799444414.5998\",\"19955929060.841\",\"14266499429.8746\",\"\",',\n",
              "  7),\n",
              " ('\"Africa Western and Central\",\"AFW\",\"GDP (current US$)\",\"NY.GDP.MKTP.CD\",\"10411646287.3058\",\"11135924727.9409\",\"11951712282.0428\",\"12685805889.8937\",\"13848998668.6184\",\"14874755833.5382\",\"15845575303.2224\",\"14428492961.8549\",\"14880501861.1181\",\"16882284662.3657\",\"23504960311.9234\",\"20843326170.6302\",\"25269456358.5288\",\"31841146881.8575\",\"44215328355.8688\",\"51445309626.4799\",\"62129985410.0664\",\"65316034540.7121\",\"71200526845.3747\",\"88629333635.7157\",\"112032331232.328\",\"211005911802.917\",\"187165406370.026\",\"138116898441.305\",\"114263904328.182\",\"116508527443.662\",\"107507001440.375\",\"110281682790.499\",\"108944735237.174\",\"101770140749.657\",\"121803568895.987\",\"127939039832.689\",\"122575953686.486\",\"127980941949.696\",\"133143476720.137\",\"205687093879.591\",\"261262106172.312\",\"274376968923.496\",\"294949797405.741\",\"137292485423.693\",\"140132777859.081\",\"147524718751.249\",\"176588559103.843\",\"204455023741.489\",\"253453654650.339\",\"310070743908.926\",\"396077046021.055\",\"465627259599.126\",\"567853448132.047\",\"508492534468.294\",\"598607469639.526\",\"682176065823.115\",\"737739503299.735\",\"834097010134.991\",\"894505003403.491\",\"769263195356.949\",\"692114931613.254\",\"685630289666.515\",\"768158194632.397\",\"823405580187.913\",\"786962436538.391\",\"844927536437.833\",\"875393693658.084\",',\n",
              "  8),\n",
              " ('\"Angola\",\"AGO\",\"GDP (current US$)\",\"NY.GDP.MKTP.CD\",\"\",\"\",\"\",\"\",\"\",\"\",\"\",\"\",\"\",\"\",\"\",\"\",\"\",\"\",\"\",\"\",\"\",\"\",\"\",\"\",\"5934073603.67893\",\"5553824463.8796\",\"5553824463.8796\",\"5787823808.69565\",\"6135166254.1806\",\"7558613008.02675\",\"7076793822.74247\",\"8089279284.61538\",\"8775116269.23077\",\"10207922517.0569\",\"11236275842.8094\",\"10401188707.2808\",\"8307826847.39834\",\"6084688935.80032\",\"4438321017.39068\",\"5538749259.94714\",\"6535434716.00224\",\"7675412600.66513\",\"6506381416.53236\",\"6152922942.24539\",\"9129594815.57661\",\"8936079251.42093\",\"15285592486.2532\",\"17812704627.0282\",\"23552057820.4599\",\"36970901023.7893\",\"52381025102.321\",\"65266415706.9741\",\"88538664884.265\",\"70307196474.1272\",\"83799473759.7201\",\"111789747670.59\",\"128052915202.989\",\"132339108708.408\",\"135966802156.542\",\"90496420626.179\",\"52761617225.9253\",\"73690155046.555\",\"79450688232.0011\",\"70897962712.6213\",\"48501561230.001\",\"66505129989.243\",\"106782770714.619\",',\n",
              "  9)]"
            ]
          },
          "metadata": {},
          "execution_count": 202
        }
      ]
    },
    {
      "cell_type": "code",
      "source": [
        "original_rdd = original_rdd_with_index.map(lambda x: x[0])"
      ],
      "metadata": {
        "id": "YX2Bo6HPoy84"
      },
      "execution_count": 203,
      "outputs": []
    },
    {
      "cell_type": "code",
      "source": [
        "(original_rdd.take(3)[0])"
      ],
      "metadata": {
        "colab": {
          "base_uri": "https://localhost:8080/",
          "height": 160
        },
        "id": "eXbAvmv6pA3x",
        "outputId": "4e9f8f1c-bfef-4244-a0a2-0f715f1837f4"
      },
      "execution_count": 204,
      "outputs": [
        {
          "output_type": "execute_result",
          "data": {
            "text/plain": [
              "'\"Aruba\",\"ABW\",\"GDP (current US$)\",\"NY.GDP.MKTP.CD\",\"\",\"\",\"\",\"\",\"\",\"\",\"\",\"\",\"\",\"\",\"\",\"\",\"\",\"\",\"\",\"\",\"\",\"\",\"\",\"\",\"\",\"\",\"\",\"\",\"\",\"\",\"405586592.178771\",\"487709497.206704\",\"596648044.692737\",\"695530726.256983\",\"764804469.273743\",\"872067039.106145\",\"958659217.877095\",\"1083240223.46369\",\"1245810055.86592\",\"1320670391.06145\",\"1379888268.15642\",\"1531843575.41899\",\"1665363128.49162\",\"1722905027.93296\",\"1873452513.96648\",\"1896456983.24022\",\"1961843575.41899\",\"2044111731.84358\",\"2254830726.25698\",\"2360017318.43575\",\"2469782681.56425\",\"2677641340.78212\",\"2843024581.00559\",\"2553793296.08939\",\"2453597206.70391\",\"2637859217.87709\",\"2615208379.88827\",\"2727849720.67039\",\"2790849720.67039\",\"2962907262.56983\",\"2983635195.53073\",\"3092429050.27933\",\"3276184357.5419\",\"3395798882.68156\",\"2558906303.88098\",\"3103184101.51354\",\"3544707788.05664\",'"
            ],
            "application/vnd.google.colaboratory.intrinsic+json": {
              "type": "string"
            }
          },
          "metadata": {},
          "execution_count": 204
        }
      ]
    },
    {
      "cell_type": "code",
      "source": [
        "column_names = header.split(',')"
      ],
      "metadata": {
        "id": "1WGDbGkXppBU"
      },
      "execution_count": 205,
      "outputs": []
    },
    {
      "cell_type": "code",
      "source": [
        "column_names = [column.strip('\"') for column in column_names]"
      ],
      "metadata": {
        "id": "_LX1tjVi2SN2"
      },
      "execution_count": 206,
      "outputs": []
    },
    {
      "cell_type": "code",
      "source": [
        "import re\n",
        "\n",
        "def regex_csv_line_split(line):\n",
        "    pattern = re.compile(r'\"((?:[^\"\\\\]|\\\\.)*)\"|([^,]+)')\n",
        "    matches = pattern.findall(line)\n",
        "    x= [\"\".join(match).strip() for match in matches]\n",
        "    print(x)\n",
        "    return x\n",
        "\n"
      ],
      "metadata": {
        "id": "p30j09JpQb1d"
      },
      "execution_count": 207,
      "outputs": []
    },
    {
      "cell_type": "code",
      "source": [
        "original_rdd = original_rdd.map(regex_csv_line_split)"
      ],
      "metadata": {
        "id": "wW7jdHGDrc9f"
      },
      "execution_count": 208,
      "outputs": []
    },
    {
      "cell_type": "code",
      "source": [
        "len(original_rdd.take(30)[0])"
      ],
      "metadata": {
        "colab": {
          "base_uri": "https://localhost:8080/"
        },
        "id": "OAXm3ZVFMGPU",
        "outputId": "10ac2f3b-0d51-40e7-a268-715f2a177c68"
      },
      "execution_count": 209,
      "outputs": [
        {
          "output_type": "execute_result",
          "data": {
            "text/plain": [
              "67"
            ]
          },
          "metadata": {},
          "execution_count": 209
        }
      ]
    },
    {
      "cell_type": "code",
      "source": [
        "len(column_names)"
      ],
      "metadata": {
        "colab": {
          "base_uri": "https://localhost:8080/"
        },
        "id": "sZde6ziD7SQk",
        "outputId": "287058bb-ac6e-433e-a161-1d09a0ea626e"
      },
      "execution_count": 210,
      "outputs": [
        {
          "output_type": "execute_result",
          "data": {
            "text/plain": [
              "68"
            ]
          },
          "metadata": {},
          "execution_count": 210
        }
      ]
    },
    {
      "cell_type": "code",
      "source": [
        "column_names = column_names[:-1]"
      ],
      "metadata": {
        "id": "blAfiqtDWvER"
      },
      "execution_count": 211,
      "outputs": []
    },
    {
      "cell_type": "code",
      "source": [
        "len(column_names)"
      ],
      "metadata": {
        "colab": {
          "base_uri": "https://localhost:8080/"
        },
        "id": "bpI8adz2WzDc",
        "outputId": "830936fd-8c03-4ddd-f360-f137115c75c5"
      },
      "execution_count": 212,
      "outputs": [
        {
          "output_type": "execute_result",
          "data": {
            "text/plain": [
              "67"
            ]
          },
          "metadata": {},
          "execution_count": 212
        }
      ]
    },
    {
      "cell_type": "code",
      "source": [
        "len(original_rdd.take(1)[0])"
      ],
      "metadata": {
        "colab": {
          "base_uri": "https://localhost:8080/"
        },
        "id": "8IPnIS8a6iCX",
        "outputId": "f5c1e298-8b1d-48a2-f19c-3e2b6748c743"
      },
      "execution_count": 213,
      "outputs": [
        {
          "output_type": "execute_result",
          "data": {
            "text/plain": [
              "67"
            ]
          },
          "metadata": {},
          "execution_count": 213
        }
      ]
    },
    {
      "cell_type": "code",
      "source": [
        "rdd_row_length = 67\n",
        "\n",
        "\n",
        "check_length = original_rdd.filter(lambda x: len(x)!=rdd_row_length)"
      ],
      "metadata": {
        "id": "CihbqgpA7lIj"
      },
      "execution_count": 214,
      "outputs": []
    },
    {
      "cell_type": "code",
      "source": [
        "check_length.take(5)"
      ],
      "metadata": {
        "colab": {
          "base_uri": "https://localhost:8080/"
        },
        "id": "ws1Xjf058CA-",
        "outputId": "e3a66f8f-4fcf-45bc-8e52-aab2623f787b"
      },
      "execution_count": 215,
      "outputs": [
        {
          "output_type": "execute_result",
          "data": {
            "text/plain": [
              "[]"
            ]
          },
          "metadata": {},
          "execution_count": 215
        }
      ]
    },
    {
      "cell_type": "code",
      "source": [
        "df_gdp = original_rdd.toDF(column_names)"
      ],
      "metadata": {
        "id": "VgX2M3vXrwej"
      },
      "execution_count": 216,
      "outputs": []
    },
    {
      "cell_type": "code",
      "source": [
        "df_gdp.show(5)"
      ],
      "metadata": {
        "colab": {
          "base_uri": "https://localhost:8080/"
        },
        "id": "1O6jSk87utG3",
        "outputId": "93b9b540-669b-4ceb-f354-bc130c083442"
      },
      "execution_count": 217,
      "outputs": [
        {
          "output_type": "stream",
          "name": "stdout",
          "text": [
            "+--------------------+------------+-----------------+--------------+----------------+----------------+----------------+----------------+----------------+----------------+----------------+----------------+----------------+----------------+----------------+----------------+----------------+----------------+----------------+----------------+----------------+----------------+----------------+----------------+----------------+----------------+----------------+----------------+----------------+----------------+----------------+----------------+----------------+----------------+----------------+----------------+----------------+----------------+----------------+----------------+----------------+----------------+----------------+----------------+----------------+----------------+----------------+----------------+----------------+----------------+----------------+----------------+----------------+----------------+----------------+----------------+----------------+----------------+----------------+----------------+----------------+----------------+----------------+----------------+----------------+----------------+----------------+\n",
            "|        Country Name|Country Code|   Indicator Name|Indicator Code|            1960|            1961|            1962|            1963|            1964|            1965|            1966|            1967|            1968|            1969|            1970|            1971|            1972|            1973|            1974|            1975|            1976|            1977|            1978|            1979|            1980|            1981|            1982|            1983|            1984|            1985|            1986|            1987|            1988|            1989|            1990|            1991|            1992|            1993|            1994|            1995|            1996|            1997|            1998|            1999|            2000|            2001|            2002|            2003|            2004|            2005|            2006|            2007|            2008|            2009|            2010|            2011|            2012|            2013|            2014|            2015|            2016|            2017|            2018|            2019|            2020|            2021|            2022|\n",
            "+--------------------+------------+-----------------+--------------+----------------+----------------+----------------+----------------+----------------+----------------+----------------+----------------+----------------+----------------+----------------+----------------+----------------+----------------+----------------+----------------+----------------+----------------+----------------+----------------+----------------+----------------+----------------+----------------+----------------+----------------+----------------+----------------+----------------+----------------+----------------+----------------+----------------+----------------+----------------+----------------+----------------+----------------+----------------+----------------+----------------+----------------+----------------+----------------+----------------+----------------+----------------+----------------+----------------+----------------+----------------+----------------+----------------+----------------+----------------+----------------+----------------+----------------+----------------+----------------+----------------+----------------+----------------+\n",
            "|               Aruba|         ABW|GDP (current US$)|NY.GDP.MKTP.CD|                |                |                |                |                |                |                |                |                |                |                |                |                |                |                |                |                |                |                |                |                |                |                |                |                |                |405586592.178771|487709497.206704|596648044.692737|695530726.256983|764804469.273743|872067039.106145|958659217.877095|1083240223.46369|1245810055.86592|1320670391.06145|1379888268.15642|1531843575.41899|1665363128.49162|1722905027.93296|1873452513.96648|1896456983.24022|1961843575.41899|2044111731.84358|2254830726.25698|2360017318.43575|2469782681.56425|2677641340.78212|2843024581.00559|2553793296.08939|2453597206.70391|2637859217.87709|2615208379.88827|2727849720.67039|2790849720.67039|2962907262.56983|2983635195.53073|3092429050.27933| 3276184357.5419|3395798882.68156|2558906303.88098|3103184101.51354|3544707788.05664|\n",
            "|Africa Eastern an...|         AFE|GDP (current US$)|NY.GDP.MKTP.CD|18478095142.1781|19366314294.0882|20506467177.8699|22242734491.0409|24294329779.9037|26619560806.5041|28732792825.1557| 31592963095.075|34216506003.7724|38498685902.3198|41938907715.5921| 45920167032.339| 49440744172.338|64933825429.4261|79888146173.0089| 84955085378.787|85050300129.2175|94566922081.6133|105623414443.521|125656371097.882|166475050971.984|173673510912.351|164114068718.601|175108664048.273|162752141155.351|135795509169.566| 153368683414.31|186594742538.673|205635932770.809|218577418670.295|254673510115.591| 275622021261.09|240210577721.912|238353057845.691| 241158029890.41|270813961389.262|268992901985.369|284065411886.655|  267286689939.3|263674195227.713|285403765401.254|260218617002.669|267142068310.105|354907412306.554|441359590323.394|514927086452.789|578633287253.354|664099392606.403|711800460143.432|723512528253.909|867040920627.224|971667511047.106|979996860991.405|986342932619.106|1006992481353.94|932513471557.123|890051427265.996|1028394291260.59|1012521425296.35|1006191000190.48|928880235176.594| 1086530704900.5|1185137703650.99|\n",
            "|         Afghanistan|         AFG|GDP (current US$)|NY.GDP.MKTP.CD|537777811.111111|548888895.555556|546666677.777778|751111191.111111|800000044.444444|1006666637.77778|1399999966.66667|1673333417.77778|1373333366.66667|1408888922.22222|1748886595.55556|1831108971.11111|1595555475.55556|1733333264.44444|2155555497.77778|2366666615.55556|2555555566.66667|2953333417.77778|3300000108.88889|3697940409.61098|3641723321.99546|3478787909.09091|                |                |                |                |                |                |                |                |                |                |                |                |                |                |                |                |                |                |                |                |3825701405.51958|4520946849.32079|5224896718.67782|6203256497.09044|6971758332.88917|9747886104.53251|10109296957.6569|12416152648.0573| 15856668496.388|17805098367.2952|19907329905.9776|20146416876.3886|20497128600.3363|19134221744.5294|18116572399.1298|18753456506.5708|18053222734.8881|18799444414.5998| 19955929060.841|14266499429.8746|                |\n",
            "|Africa Western an...|         AFW|GDP (current US$)|NY.GDP.MKTP.CD|10411646287.3058|11135924727.9409|11951712282.0428|12685805889.8937|13848998668.6184|14874755833.5382|15845575303.2224|14428492961.8549|14880501861.1181|16882284662.3657|23504960311.9234|20843326170.6302|25269456358.5288|31841146881.8575|44215328355.8688|51445309626.4799|62129985410.0664|65316034540.7121|71200526845.3747|88629333635.7157|112032331232.328|211005911802.917|187165406370.026|138116898441.305|114263904328.182|116508527443.662|107507001440.375|110281682790.499|108944735237.174|101770140749.657|121803568895.987|127939039832.689|122575953686.486|127980941949.696|133143476720.137|205687093879.591|261262106172.312|274376968923.496|294949797405.741|137292485423.693|140132777859.081|147524718751.249|176588559103.843|204455023741.489|253453654650.339|310070743908.926|396077046021.055|465627259599.126|567853448132.047|508492534468.294|598607469639.526|682176065823.115|737739503299.735|834097010134.991|894505003403.491|769263195356.949|692114931613.254|685630289666.515|768158194632.397|823405580187.913|786962436538.391|844927536437.833|875393693658.084|\n",
            "|              Angola|         AGO|GDP (current US$)|NY.GDP.MKTP.CD|                |                |                |                |                |                |                |                |                |                |                |                |                |                |                |                |                |                |                |                |5934073603.67893| 5553824463.8796| 5553824463.8796|5787823808.69565| 6135166254.1806|7558613008.02675|7076793822.74247|8089279284.61538|8775116269.23077|10207922517.0569|11236275842.8094|10401188707.2808|8307826847.39834|6084688935.80032|4438321017.39068|5538749259.94714|6535434716.00224|7675412600.66513|6506381416.53236|6152922942.24539|9129594815.57661|8936079251.42093|15285592486.2532|17812704627.0282|23552057820.4599|36970901023.7893| 52381025102.321|65266415706.9741| 88538664884.265|70307196474.1272|83799473759.7201| 111789747670.59|128052915202.989|132339108708.408|135966802156.542| 90496420626.179|52761617225.9253| 73690155046.555|79450688232.0011|70897962712.6213| 48501561230.001| 66505129989.243|106782770714.619|\n",
            "+--------------------+------------+-----------------+--------------+----------------+----------------+----------------+----------------+----------------+----------------+----------------+----------------+----------------+----------------+----------------+----------------+----------------+----------------+----------------+----------------+----------------+----------------+----------------+----------------+----------------+----------------+----------------+----------------+----------------+----------------+----------------+----------------+----------------+----------------+----------------+----------------+----------------+----------------+----------------+----------------+----------------+----------------+----------------+----------------+----------------+----------------+----------------+----------------+----------------+----------------+----------------+----------------+----------------+----------------+----------------+----------------+----------------+----------------+----------------+----------------+----------------+----------------+----------------+----------------+----------------+----------------+----------------+\n",
            "only showing top 5 rows\n",
            "\n"
          ]
        }
      ]
    },
    {
      "cell_type": "code",
      "source": [
        "df_gdp.select('Country Name').distinct().count()"
      ],
      "metadata": {
        "colab": {
          "base_uri": "https://localhost:8080/"
        },
        "id": "cMCQznAX6P8F",
        "outputId": "07301c24-d272-4618-a7ec-a2a56af6be4e"
      },
      "execution_count": 218,
      "outputs": [
        {
          "output_type": "execute_result",
          "data": {
            "text/plain": [
              "266"
            ]
          },
          "metadata": {},
          "execution_count": 218
        }
      ]
    },
    {
      "cell_type": "code",
      "source": [
        "drop_columns = column_names[3:55]"
      ],
      "metadata": {
        "id": "r8nDlUfbu87t"
      },
      "execution_count": 219,
      "outputs": []
    },
    {
      "cell_type": "code",
      "source": [
        "df_gdp = df_gdp.drop(*drop_columns)"
      ],
      "metadata": {
        "id": "f0ZYzgwgweL_"
      },
      "execution_count": 220,
      "outputs": []
    },
    {
      "cell_type": "code",
      "source": [
        "df_gdp.show(truncate = False, n = 4)"
      ],
      "metadata": {
        "colab": {
          "base_uri": "https://localhost:8080/"
        },
        "id": "D83GkdxCwnGg",
        "outputId": "524dc6b4-c1d0-46e3-b579-03b5f0f4cdbf"
      },
      "execution_count": 221,
      "outputs": [
        {
          "output_type": "stream",
          "name": "stdout",
          "text": [
            "+---------------------------+------------+-----------------+----------------+----------------+----------------+----------------+----------------+----------------+----------------+----------------+----------------+----------------+----------------+----------------+\n",
            "|Country Name               |Country Code|Indicator Name   |2011            |2012            |2013            |2014            |2015            |2016            |2017            |2018            |2019            |2020            |2021            |2022            |\n",
            "+---------------------------+------------+-----------------+----------------+----------------+----------------+----------------+----------------+----------------+----------------+----------------+----------------+----------------+----------------+----------------+\n",
            "|Aruba                      |ABW         |GDP (current US$)|2637859217.87709|2615208379.88827|2727849720.67039|2790849720.67039|2962907262.56983|2983635195.53073|3092429050.27933|3276184357.5419 |3395798882.68156|2558906303.88098|3103184101.51354|3544707788.05664|\n",
            "|Africa Eastern and Southern|AFE         |GDP (current US$)|971667511047.106|979996860991.405|986342932619.106|1006992481353.94|932513471557.123|890051427265.996|1028394291260.59|1012521425296.35|1006191000190.48|928880235176.594|1086530704900.5 |1185137703650.99|\n",
            "|Afghanistan                |AFG         |GDP (current US$)|17805098367.2952|19907329905.9776|20146416876.3886|20497128600.3363|19134221744.5294|18116572399.1298|18753456506.5708|18053222734.8881|18799444414.5998|19955929060.841 |14266499429.8746|                |\n",
            "|Africa Western and Central |AFW         |GDP (current US$)|682176065823.115|737739503299.735|834097010134.991|894505003403.491|769263195356.949|692114931613.254|685630289666.515|768158194632.397|823405580187.913|786962436538.391|844927536437.833|875393693658.084|\n",
            "+---------------------------+------------+-----------------+----------------+----------------+----------------+----------------+----------------+----------------+----------------+----------------+----------------+----------------+----------------+----------------+\n",
            "only showing top 4 rows\n",
            "\n"
          ]
        }
      ]
    },
    {
      "cell_type": "code",
      "source": [
        "df_gdp.printSchema()"
      ],
      "metadata": {
        "colab": {
          "base_uri": "https://localhost:8080/"
        },
        "id": "kE2mxzLU4EYL",
        "outputId": "00a7069c-2c61-45e4-faa3-23f3a49b3258"
      },
      "execution_count": 222,
      "outputs": [
        {
          "output_type": "stream",
          "name": "stdout",
          "text": [
            "root\n",
            " |-- Country Name: string (nullable = true)\n",
            " |-- Country Code: string (nullable = true)\n",
            " |-- Indicator Name: string (nullable = true)\n",
            " |-- 2011: string (nullable = true)\n",
            " |-- 2012: string (nullable = true)\n",
            " |-- 2013: string (nullable = true)\n",
            " |-- 2014: string (nullable = true)\n",
            " |-- 2015: string (nullable = true)\n",
            " |-- 2016: string (nullable = true)\n",
            " |-- 2017: string (nullable = true)\n",
            " |-- 2018: string (nullable = true)\n",
            " |-- 2019: string (nullable = true)\n",
            " |-- 2020: string (nullable = true)\n",
            " |-- 2021: string (nullable = true)\n",
            " |-- 2022: string (nullable = true)\n",
            "\n"
          ]
        }
      ]
    },
    {
      "cell_type": "code",
      "source": [
        "df_gdp = df_gdp.drop(\"\")"
      ],
      "metadata": {
        "id": "EUvn7NVb4b6p"
      },
      "execution_count": 223,
      "outputs": []
    },
    {
      "cell_type": "code",
      "source": [
        "df_gdp.printSchema()"
      ],
      "metadata": {
        "colab": {
          "base_uri": "https://localhost:8080/"
        },
        "id": "HdvWrr4J4e2e",
        "outputId": "8c150708-3342-408b-888f-edfc187216aa"
      },
      "execution_count": 224,
      "outputs": [
        {
          "output_type": "stream",
          "name": "stdout",
          "text": [
            "root\n",
            " |-- Country Name: string (nullable = true)\n",
            " |-- Country Code: string (nullable = true)\n",
            " |-- Indicator Name: string (nullable = true)\n",
            " |-- 2011: string (nullable = true)\n",
            " |-- 2012: string (nullable = true)\n",
            " |-- 2013: string (nullable = true)\n",
            " |-- 2014: string (nullable = true)\n",
            " |-- 2015: string (nullable = true)\n",
            " |-- 2016: string (nullable = true)\n",
            " |-- 2017: string (nullable = true)\n",
            " |-- 2018: string (nullable = true)\n",
            " |-- 2019: string (nullable = true)\n",
            " |-- 2020: string (nullable = true)\n",
            " |-- 2021: string (nullable = true)\n",
            " |-- 2022: string (nullable = true)\n",
            "\n"
          ]
        }
      ]
    },
    {
      "cell_type": "code",
      "source": [
        "df_gdp.show(1)"
      ],
      "metadata": {
        "colab": {
          "base_uri": "https://localhost:8080/"
        },
        "id": "L3GL6yox45S5",
        "outputId": "380486a8-585a-4743-c4d5-5f29e1cfa71a"
      },
      "execution_count": 225,
      "outputs": [
        {
          "output_type": "stream",
          "name": "stdout",
          "text": [
            "+------------+------------+-----------------+----------------+----------------+----------------+----------------+----------------+----------------+----------------+---------------+----------------+----------------+----------------+----------------+\n",
            "|Country Name|Country Code|   Indicator Name|            2011|            2012|            2013|            2014|            2015|            2016|            2017|           2018|            2019|            2020|            2021|            2022|\n",
            "+------------+------------+-----------------+----------------+----------------+----------------+----------------+----------------+----------------+----------------+---------------+----------------+----------------+----------------+----------------+\n",
            "|       Aruba|         ABW|GDP (current US$)|2637859217.87709|2615208379.88827|2727849720.67039|2790849720.67039|2962907262.56983|2983635195.53073|3092429050.27933|3276184357.5419|3395798882.68156|2558906303.88098|3103184101.51354|3544707788.05664|\n",
            "+------------+------------+-----------------+----------------+----------------+----------------+----------------+----------------+----------------+----------------+---------------+----------------+----------------+----------------+----------------+\n",
            "only showing top 1 row\n",
            "\n"
          ]
        }
      ]
    },
    {
      "cell_type": "code",
      "source": [
        "df_gdp.select('Country Name').distinct().count()"
      ],
      "metadata": {
        "colab": {
          "base_uri": "https://localhost:8080/"
        },
        "id": "Zz52A5QMx73E",
        "outputId": "cd10d2ce-6201-41e4-cd7a-b03e13c34367"
      },
      "execution_count": 226,
      "outputs": [
        {
          "output_type": "execute_result",
          "data": {
            "text/plain": [
              "266"
            ]
          },
          "metadata": {},
          "execution_count": 226
        }
      ]
    },
    {
      "cell_type": "code",
      "source": [
        "df_gdp = df_gdp.withColumn('2022', col('2022').cast('double'))"
      ],
      "metadata": {
        "id": "Y1W2YJVxWWtK"
      },
      "execution_count": 227,
      "outputs": []
    },
    {
      "cell_type": "code",
      "source": [
        "df_gdp.select('Country Name', col('2022'))\\\n",
        ".orderBy(col('2022').desc())\\\n",
        ".show(truncate= False, n=5)"
      ],
      "metadata": {
        "colab": {
          "base_uri": "https://localhost:8080/"
        },
        "id": "n6adSjNQSAwQ",
        "outputId": "0473619b-3c4e-4f48-ba09-d320cd899f72"
      },
      "execution_count": 228,
      "outputs": [
        {
          "output_type": "stream",
          "name": "stdout",
          "text": [
            "+-------------------------+-------------------+\n",
            "|Country Name             |2022               |\n",
            "+-------------------------+-------------------+\n",
            "|World                    |1.00879560825388E14|\n",
            "|High income              |6.17295121237778E13|\n",
            "|OECD members             |5.98498783817075E13|\n",
            "|Post-demographic dividend|5.62115846996494E13|\n",
            "|IDA & IBRD total         |4.05739621636075E13|\n",
            "+-------------------------+-------------------+\n",
            "only showing top 5 rows\n",
            "\n"
          ]
        }
      ]
    },
    {
      "cell_type": "code",
      "source": [
        "\n",
        "#list of non-country names\n",
        "non_countries = [\"World\", \"High income\", \"OECD members\", \"Post-demographic dividend\", \"IDA & IBRD total\",\n",
        "                 \"Low & middle income\", \"Middle income\", \"IBRD only\", \"East Asia & Pacific\",\n",
        "                 \"Upper middle income\", \"Late-demographic dividend\", \"North America\",\n",
        "                 \"Europe & Central Asia\", \"East Asia & Pacific (excluding high income)\",\n",
        "                 \"East Asia & Pacific (IDA & IBRD countries)\", \"European Union\",\n",
        "                 \"Early-demographic dividend\", \"Euro area\", \"Lower middle income\", \"Latin America & Caribbean\", \"Latin America & the Caribbean (IDA & IBRD countries)\",\n",
        "                 \"Latin America & Caribbean (excluding high income)\", \"Europe & Central Asia (IDA & IBRD countries)\", \"Middle East & North Africa\",\n",
        "                 \"South Asia\", \"South Asia (IDA & IBRD)\", \"Europe & Central Asia (excluding high income)\", \"IDA total\", \"Sub-Saharan Africa\", \"Arab World\",\n",
        "                 \"Sub-Saharan Africa (IDA & IBRD countries)\", \"Sub-Saharan Africa (excluding high income)\", \"Fragile and conflict affected situations\",\n",
        "                 \"Middle East & North Africa (excluding high income)\", \"Middle East & North Africa (IDA & IBRD countries)\", \"Central Europe and the Baltics\",\n",
        "                 \"IDA only\", \"Pre-demographic dividend\", \"Least developed countries: UN classification\", \"Africa Eastern and Southern\",\n",
        "                 \"Heavily indebted poor countries (HIPC)\"]\n",
        "\n",
        "\n",
        "df_gdp = df_gdp.filter(~(col('Country Name').isin(non_countries)))\n",
        "\n",
        "df_gdp.select('Country Name', round((col('2022')/1e12), 2).alias(\"GDP in trillions USD\")).orderBy(col('2022').desc()).show(truncate= False)"
      ],
      "metadata": {
        "colab": {
          "base_uri": "https://localhost:8080/"
        },
        "id": "zeQT2mnfhqoH",
        "outputId": "1711eb96-68f9-4ae5-b522-c8b4e18c72a9"
      },
      "execution_count": 229,
      "outputs": [
        {
          "output_type": "stream",
          "name": "stdout",
          "text": [
            "+------------------+--------------------+\n",
            "|Country Name      |GDP in trillions USD|\n",
            "+------------------+--------------------+\n",
            "|United States     |25.44               |\n",
            "|China             |17.96               |\n",
            "|Japan             |4.26                |\n",
            "|Germany           |4.08                |\n",
            "|India             |3.42                |\n",
            "|United Kingdom    |3.09                |\n",
            "|France            |2.78                |\n",
            "|Russian Federation|2.24                |\n",
            "|Canada            |2.16                |\n",
            "|Italy             |2.05                |\n",
            "|Brazil            |1.92                |\n",
            "|Australia         |1.69                |\n",
            "|Korea, Rep.       |1.67                |\n",
            "|Mexico            |1.47                |\n",
            "|Spain             |1.42                |\n",
            "|Indonesia         |1.32                |\n",
            "|IDA blend         |1.18                |\n",
            "|Saudi Arabia      |1.11                |\n",
            "|Netherlands       |1.01                |\n",
            "|Turkiye           |0.91                |\n",
            "+------------------+--------------------+\n",
            "only showing top 20 rows\n",
            "\n"
          ]
        }
      ]
    },
    {
      "cell_type": "code",
      "source": [
        "df_gdp_current = df_gdp.select(col('Country Name').alias('Country_Name'), round((col('2022')/1e12), 2).alias(\"current_gdp\"))"
      ],
      "metadata": {
        "id": "Jy9ZU1_nVPKx"
      },
      "execution_count": 230,
      "outputs": []
    },
    {
      "cell_type": "code",
      "source": [
        "df_gdp_current.printSchema()"
      ],
      "metadata": {
        "colab": {
          "base_uri": "https://localhost:8080/"
        },
        "id": "0DlKOJucL_Qo",
        "outputId": "172cf9e8-7571-4d96-de0c-c7c07b999c2e"
      },
      "execution_count": 231,
      "outputs": [
        {
          "output_type": "stream",
          "name": "stdout",
          "text": [
            "root\n",
            " |-- Country_Name: string (nullable = true)\n",
            " |-- current_gdp: double (nullable = true)\n",
            "\n"
          ]
        }
      ]
    },
    {
      "cell_type": "code",
      "source": [
        "df_debt_gdp = df_debt.join(df_gdp_current, df_debt['Country']==df_gdp_current['Country_Name'])"
      ],
      "metadata": {
        "id": "kJM698lnoFBP"
      },
      "execution_count": 232,
      "outputs": []
    },
    {
      "cell_type": "code",
      "source": [
        "df_debt_gdp.orderBy(col('current_gdp').desc()).show()"
      ],
      "metadata": {
        "colab": {
          "base_uri": "https://localhost:8080/"
        },
        "id": "m0Yu_zhJoNDa",
        "outputId": "d82b8abf-5a4d-4363-ca7c-6b75db3bccf5"
      },
      "execution_count": 233,
      "outputs": [
        {
          "output_type": "stream",
          "name": "stdout",
          "text": [
            "+------------------+-----------------+------------------+-----------+\n",
            "|           Country|Debt_in_trillions|      Country_Name|current_gdp|\n",
            "+------------------+-----------------+------------------+-----------+\n",
            "|             China|             5.96|             China|      17.96|\n",
            "|             Japan|             0.13|             Japan|       4.26|\n",
            "|             India|             6.08|             India|       3.42|\n",
            "|            France|             0.04|            France|       2.78|\n",
            "|Russian Federation|              1.6|Russian Federation|       2.24|\n",
            "|             Italy|             0.06|             Italy|       2.05|\n",
            "|            Brazil|             7.86|            Brazil|       1.92|\n",
            "|         Australia|             0.07|         Australia|       1.69|\n",
            "|            Mexico|             7.58|            Mexico|       1.47|\n",
            "|             Spain|             0.07|             Spain|       1.42|\n",
            "|         Indonesia|              6.3|         Indonesia|       1.32|\n",
            "|       Netherlands|             0.04|       Netherlands|       1.01|\n",
            "|           Turkiye|             0.82|           Turkiye|       0.91|\n",
            "|            Poland|             2.13|            Poland|       0.69|\n",
            "|         Argentina|             4.27|         Argentina|       0.63|\n",
            "|            Norway|             0.02|            Norway|       0.59|\n",
            "|           Belgium|             0.01|           Belgium|       0.58|\n",
            "|           Ireland|             0.02|           Ireland|       0.53|\n",
            "|            Israel|             0.04|            Israel|       0.53|\n",
            "|          Thailand|             1.25|          Thailand|        0.5|\n",
            "+------------------+-----------------+------------------+-----------+\n",
            "only showing top 20 rows\n",
            "\n"
          ]
        }
      ]
    }
  ]
}